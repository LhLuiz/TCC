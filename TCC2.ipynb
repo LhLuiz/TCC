{
  "nbformat": 4,
  "nbformat_minor": 0,
  "metadata": {
    "colab": {
      "provenance": []
    },
    "kernelspec": {
      "name": "python3",
      "display_name": "Python 3"
    },
    "language_info": {
      "name": "python"
    },
    "accelerator": "GPU",
    "gpuClass": "standard"
  },
  "cells": [
    {
      "cell_type": "code",
      "execution_count": null,
      "metadata": {
        "colab": {
          "base_uri": "https://localhost:8080/"
        },
        "id": "9nh58kWOwnr4",
        "outputId": "876cb02f-5da1-41d9-a416-7e2a213fbb9c"
      },
      "outputs": [
        {
          "output_type": "stream",
          "name": "stdout",
          "text": [
            "[INFO] Librosa: 0.8.1\n",
            "[INFO] tensorflow: 2.9.2\n"
          ]
        }
      ],
      "source": [
        "import os\n",
        "import pathlib\n",
        "from datetime import datetime\n",
        "import librosa\n",
        "print(f'[INFO] Librosa: {librosa.__version__}')\n",
        "import librosa.display as ld\n",
        "import matplotlib.pyplot as plt\n",
        "import numpy as np\n",
        "import pandas as pd\n",
        "from IPython.display import Audio\n",
        "from tqdm import tqdm\n",
        "import tensorflow as tf\n",
        "print(f'[INFO] tensorflow: {tf.__version__}')\n",
        "from sklearn.preprocessing import LabelEncoder\n",
        "from tensorflow.keras.models import Sequential\n",
        "from tensorflow.keras.regularizers import l2\n",
        "from tensorflow.keras.utils import to_categorical\n",
        "from tensorflow.keras.utils import plot_model\n",
        "from tensorflow.keras.callbacks import ModelCheckpoint\n",
        "from tensorflow.keras.layers import (TimeDistributed, Activation, LSTM, Dense, Dropout, Conv1D, Flatten, MaxPooling1D)\n",
        "from sklearn.metrics import confusion_matrix\n",
        "from sklearn.metrics import classification_report\n",
        "from sklearn.model_selection import train_test_split\n",
        "import seaborn as sns"
      ]
    },
    {
      "cell_type": "markdown",
      "source": [
        "#Emotion"
      ],
      "metadata": {
        "id": "livb2dDHBt05"
      }
    },
    {
      "cell_type": "code",
      "source": [
        "from google.colab import drive\n",
        "drive.mount('/content/drive')\n",
        "emotions = [] # Emoção (01 = neutro, 02 = estresse(zangado, medo)).\n",
        "full_path = []\n",
        "\n",
        "def create_dataset_Geral(dataset):\n",
        "  for root, dirs, files in tqdm(os.walk(dataset)):\n",
        "    for file in files:\n",
        "      try:\n",
        "        if emotions.count(2) < 1700:\n",
        "          if root == \"/content/drive/MyDrive/Emotions/Neutral\":\n",
        "            label = 1\n",
        "          else:\n",
        "            label = 2\n",
        "          emotions.append(label)\n",
        "          full_path.append((root, file))\n",
        "      except ValueError:\n",
        "        continue"
      ],
      "metadata": {
        "colab": {
          "base_uri": "https://localhost:8080/"
        },
        "id": "v8ghJznhBtCZ",
        "outputId": "eddb6651-e99e-45e5-ca8a-a80c10d8096d"
      },
      "execution_count": null,
      "outputs": [
        {
          "output_type": "stream",
          "name": "stdout",
          "text": [
            "Drive already mounted at /content/drive; to attempt to forcibly remount, call drive.mount(\"/content/drive\", force_remount=True).\n"
          ]
        }
      ]
    },
    {
      "cell_type": "code",
      "source": [
        "create_dataset_Geral('/content/drive/MyDrive/Emotions')"
      ],
      "metadata": {
        "colab": {
          "base_uri": "https://localhost:8080/"
        },
        "id": "_5otKincBz9Q",
        "outputId": "1d1bd2fd-4860-4d9f-b0b0-cf4226970e72"
      },
      "execution_count": null,
      "outputs": [
        {
          "output_type": "stream",
          "name": "stderr",
          "text": [
            "4it [00:09,  2.30s/it]\n"
          ]
        }
      ]
    },
    {
      "cell_type": "markdown",
      "source": [
        "# RAVDESS\n",
        "## Baixando e carregando os datasets: SPEECH\n",
        "\n",
        "Neste projeto serão usados somente os arquivos de áudio contendo as expressões faladas(speech) devido a limitação de espaço disponível no Google Drive.\n",
        "\n",
        "* arquivos de fala (Audio_Speech_Actors) contém 1440 arquivos."
      ],
      "metadata": {
        "id": "VBtbKuwnxr9M"
      }
    },
    {
      "cell_type": "code",
      "source": [
        "!wget https://zenodo.org/record/1188976/files/Audio_Speech_Actors_01-24.zip -O Audio_Speech_Actors_01-24.zip\n",
        "!unzip Audio_Speech_Actors_01-24.zip -d '/content/Audio_Speech_Actors'\n",
        "!rm Audio_Speech_Actors_01-24.zip"
      ],
      "metadata": {
        "id": "H4sS5TmZxjjV"
      },
      "execution_count": null,
      "outputs": []
    },
    {
      "cell_type": "markdown",
      "source": [
        "## Identificadores de nome de arquivo\n",
        "\n",
        "Cada um dos 7356 arquivos RAVDESS possui um nome de arquivo exclusivo. O nome do arquivo consiste em um identificador numérico de 7 partes (por exemplo, 03-02-01-01-01-01-01.wav). Esses identificadores definem as características do estímulo.\n",
        "\n",
        "* Modalidade (01 = AV completo, 02 = apenas vídeo, 03 = apenas áudio).\n",
        "* Canal vocal (01 = fala, 02 = música).\n",
        "* Emoção (01 = neutro, 02 = calmo, 03 = feliz, 04 = triste, 05 = zangado, 06 = com medo, 07 = nojo, 08 = surpreso).\n",
        "* Intensidade emocional (01 = normal, 02 = forte). NOTA: Não há intensidade forte para a emoção 'neutra'.\n",
        "* Frase (01 = \"Kids are talking by the door\", 02 = \"Dogs are sitting by the door\").\n",
        "* Repetição (01 = 1ª repetição, 02 = 2ª repetição).\n",
        "* Ator (01 a 24. Os atores com números ímpares são homens, os atores com números pares são mulheres)."
      ],
      "metadata": {
        "id": "U9smXEqGx9xt"
      }
    },
    {
      "cell_type": "code",
      "source": [
        "emotions = [] # Emoção (01 = neutro, 02 = estresse(zangado, medo)).\n",
        "full_path = []\n",
        "\n",
        "def create_dataset_Ravdess(dataset):\n",
        "  for root, dirs, files in tqdm(os.walk(dataset)):\n",
        "    for file in files:\n",
        "      try:\n",
        "        if int(file[7:8]) == 1 or int(file[7:8]) == 5 or int(file[7:8]) == 6:\n",
        "          if int(file[7:8]) == 5 or int(file[7:8]) == 6:\n",
        "            if emotions.count(2) < 96:\n",
        "              label = 2\n",
        "              emotions.append(label)\n",
        "              full_path.append((root, file))\n",
        "          elif int(file[7:8]) == 1:\n",
        "            label = 1\n",
        "            emotions.append(label)\n",
        "            full_path.append((root, file))\n",
        "      except ValueError:\n",
        "        continue"
      ],
      "metadata": {
        "id": "CcEX_mORx-8k"
      },
      "execution_count": null,
      "outputs": []
    },
    {
      "cell_type": "code",
      "source": [
        "create_dataset_Ravdess('/content/Audio_Speech_Actors')"
      ],
      "metadata": {
        "colab": {
          "base_uri": "https://localhost:8080/"
        },
        "id": "DV66cX-szNI2",
        "outputId": "6b5a8972-7dd1-4cab-80da-a433916be850"
      },
      "execution_count": null,
      "outputs": [
        {
          "output_type": "stream",
          "name": "stderr",
          "text": [
            "25it [00:00, 3275.78it/s]\n"
          ]
        }
      ]
    },
    {
      "cell_type": "code",
      "source": [
        "len(full_path)"
      ],
      "metadata": {
        "colab": {
          "base_uri": "https://localhost:8080/"
        },
        "id": "3_pIzKTxzVlt",
        "outputId": "96a8b52b-b437-424f-8e53-3bd397c031c3"
      },
      "execution_count": null,
      "outputs": [
        {
          "output_type": "execute_result",
          "data": {
            "text/plain": [
              "192"
            ]
          },
          "metadata": {},
          "execution_count": 5
        }
      ]
    },
    {
      "cell_type": "markdown",
      "source": [
        "#Savee\n",
        "\n",
        "## carregando os datasets: SPEECH\n",
        "\n",
        "Neste projeto serão usados somente os arquivos de áudio contendo as expressões faladas devido a limitação de espaço disponível no Google Drive.\n",
        "\n",
        "* arquivos de fala contém 239 arquivos."
      ],
      "metadata": {
        "id": "Nhh34E09pYQC"
      }
    },
    {
      "cell_type": "code",
      "source": [
        "!mkdir -p \"/content/drive/MyDrive/DatasetSavee\""
      ],
      "metadata": {
        "id": "Rw5GGzOAp9Fa"
      },
      "execution_count": null,
      "outputs": []
    },
    {
      "cell_type": "code",
      "source": [
        "emotions = [] # Emoção (01 = neutro, 02 = estresse(zangado, medo)).\n",
        "full_path = []\n",
        "\n",
        "def create_dataset_Savee(dataset):\n",
        "  for root, dirs, files in tqdm(os.walk(dataset)):\n",
        "    for file in files:\n",
        "      try:\n",
        "        if file[0:1] == \"n\":\n",
        "          label = 1\n",
        "        else:\n",
        "           label = 2\n",
        "        emotions.append(label)\n",
        "        full_path.append((root, file))\n",
        "      except ValueError:\n",
        "        continue"
      ],
      "metadata": {
        "id": "Qucg6IV2r9Ti"
      },
      "execution_count": null,
      "outputs": []
    },
    {
      "cell_type": "code",
      "source": [
        "from google.colab import drive\n",
        "drive.mount('/content/drive')"
      ],
      "metadata": {
        "colab": {
          "base_uri": "https://localhost:8080/"
        },
        "id": "XiOsla-ASP0D",
        "outputId": "2ad54aa0-c1bd-4928-9123-e03baa923755"
      },
      "execution_count": null,
      "outputs": [
        {
          "output_type": "stream",
          "name": "stdout",
          "text": [
            "Drive already mounted at /content/drive; to attempt to forcibly remount, call drive.mount(\"/content/drive\", force_remount=True).\n"
          ]
        }
      ]
    },
    {
      "cell_type": "code",
      "source": [
        "create_dataset_Savee('/content/drive/MyDrive/DatasetSavee')"
      ],
      "metadata": {
        "id": "rDL-Yozkqk1v",
        "colab": {
          "base_uri": "https://localhost:8080/"
        },
        "outputId": "38050fe1-0b7f-477b-a330-8b78a292ad18"
      },
      "execution_count": null,
      "outputs": [
        {
          "output_type": "stream",
          "name": "stderr",
          "text": [
            "3it [00:01,  2.74it/s]\n"
          ]
        }
      ]
    },
    {
      "cell_type": "code",
      "source": [
        "len(full_path)"
      ],
      "metadata": {
        "id": "-ds2fdpPsOSC",
        "colab": {
          "base_uri": "https://localhost:8080/"
        },
        "outputId": "314d6509-a78c-4e4b-ad5b-c540b64892fe"
      },
      "execution_count": null,
      "outputs": [
        {
          "output_type": "execute_result",
          "data": {
            "text/plain": [
              "239"
            ]
          },
          "metadata": {},
          "execution_count": 44
        }
      ]
    },
    {
      "cell_type": "markdown",
      "source": [
        "#Igual para todas base de dados"
      ],
      "metadata": {
        "id": "mDn5v2fJ64sz"
      }
    },
    {
      "cell_type": "code",
      "source": [
        "emotions_list = ['neutra', 'estresse']\n",
        "emotion_dict = {em[0] + 1:em[1] for em in enumerate(emotions_list)}\n",
        "emotion_dict"
      ],
      "metadata": {
        "colab": {
          "base_uri": "https://localhost:8080/"
        },
        "id": "OwCgHu70zcRN",
        "outputId": "5bf4db29-622e-4db0-c413-9add1827e46a"
      },
      "execution_count": null,
      "outputs": [
        {
          "output_type": "execute_result",
          "data": {
            "text/plain": [
              "{1: 'neutra', 2: 'estresse'}"
            ]
          },
          "metadata": {},
          "execution_count": 45
        }
      ]
    },
    {
      "cell_type": "code",
      "source": [
        "df = pd.DataFrame([emotions, full_path]).T\n",
        "df.columns = ['Emocao', 'Caminho']\n",
        "df"
      ],
      "metadata": {
        "colab": {
          "base_uri": "https://localhost:8080/",
          "height": 423
        },
        "id": "c-_IEuGPzsZF",
        "outputId": "1928781e-c50a-43fe-b2d5-99822489e271"
      },
      "execution_count": null,
      "outputs": [
        {
          "output_type": "execute_result",
          "data": {
            "text/plain": [
              "    Emocao                                            Caminho\n",
              "0        1  (/content/drive/MyDrive/DatasetSavee/neutro, n...\n",
              "1        1  (/content/drive/MyDrive/DatasetSavee/neutro, n...\n",
              "2        1  (/content/drive/MyDrive/DatasetSavee/neutro, n...\n",
              "3        1  (/content/drive/MyDrive/DatasetSavee/neutro, n...\n",
              "4        1  (/content/drive/MyDrive/DatasetSavee/neutro, n...\n",
              "..     ...                                                ...\n",
              "234      2  (/content/drive/MyDrive/DatasetSavee/estresse,...\n",
              "235      2  (/content/drive/MyDrive/DatasetSavee/estresse,...\n",
              "236      2  (/content/drive/MyDrive/DatasetSavee/estresse,...\n",
              "237      2  (/content/drive/MyDrive/DatasetSavee/estresse,...\n",
              "238      2  (/content/drive/MyDrive/DatasetSavee/estresse,...\n",
              "\n",
              "[239 rows x 2 columns]"
            ],
            "text/html": [
              "\n",
              "  <div id=\"df-24dc8225-9ade-4d9d-8c32-f5b543f0ed6e\">\n",
              "    <div class=\"colab-df-container\">\n",
              "      <div>\n",
              "<style scoped>\n",
              "    .dataframe tbody tr th:only-of-type {\n",
              "        vertical-align: middle;\n",
              "    }\n",
              "\n",
              "    .dataframe tbody tr th {\n",
              "        vertical-align: top;\n",
              "    }\n",
              "\n",
              "    .dataframe thead th {\n",
              "        text-align: right;\n",
              "    }\n",
              "</style>\n",
              "<table border=\"1\" class=\"dataframe\">\n",
              "  <thead>\n",
              "    <tr style=\"text-align: right;\">\n",
              "      <th></th>\n",
              "      <th>Emocao</th>\n",
              "      <th>Caminho</th>\n",
              "    </tr>\n",
              "  </thead>\n",
              "  <tbody>\n",
              "    <tr>\n",
              "      <th>0</th>\n",
              "      <td>1</td>\n",
              "      <td>(/content/drive/MyDrive/DatasetSavee/neutro, n...</td>\n",
              "    </tr>\n",
              "    <tr>\n",
              "      <th>1</th>\n",
              "      <td>1</td>\n",
              "      <td>(/content/drive/MyDrive/DatasetSavee/neutro, n...</td>\n",
              "    </tr>\n",
              "    <tr>\n",
              "      <th>2</th>\n",
              "      <td>1</td>\n",
              "      <td>(/content/drive/MyDrive/DatasetSavee/neutro, n...</td>\n",
              "    </tr>\n",
              "    <tr>\n",
              "      <th>3</th>\n",
              "      <td>1</td>\n",
              "      <td>(/content/drive/MyDrive/DatasetSavee/neutro, n...</td>\n",
              "    </tr>\n",
              "    <tr>\n",
              "      <th>4</th>\n",
              "      <td>1</td>\n",
              "      <td>(/content/drive/MyDrive/DatasetSavee/neutro, n...</td>\n",
              "    </tr>\n",
              "    <tr>\n",
              "      <th>...</th>\n",
              "      <td>...</td>\n",
              "      <td>...</td>\n",
              "    </tr>\n",
              "    <tr>\n",
              "      <th>234</th>\n",
              "      <td>2</td>\n",
              "      <td>(/content/drive/MyDrive/DatasetSavee/estresse,...</td>\n",
              "    </tr>\n",
              "    <tr>\n",
              "      <th>235</th>\n",
              "      <td>2</td>\n",
              "      <td>(/content/drive/MyDrive/DatasetSavee/estresse,...</td>\n",
              "    </tr>\n",
              "    <tr>\n",
              "      <th>236</th>\n",
              "      <td>2</td>\n",
              "      <td>(/content/drive/MyDrive/DatasetSavee/estresse,...</td>\n",
              "    </tr>\n",
              "    <tr>\n",
              "      <th>237</th>\n",
              "      <td>2</td>\n",
              "      <td>(/content/drive/MyDrive/DatasetSavee/estresse,...</td>\n",
              "    </tr>\n",
              "    <tr>\n",
              "      <th>238</th>\n",
              "      <td>2</td>\n",
              "      <td>(/content/drive/MyDrive/DatasetSavee/estresse,...</td>\n",
              "    </tr>\n",
              "  </tbody>\n",
              "</table>\n",
              "<p>239 rows × 2 columns</p>\n",
              "</div>\n",
              "      <button class=\"colab-df-convert\" onclick=\"convertToInteractive('df-24dc8225-9ade-4d9d-8c32-f5b543f0ed6e')\"\n",
              "              title=\"Convert this dataframe to an interactive table.\"\n",
              "              style=\"display:none;\">\n",
              "        \n",
              "  <svg xmlns=\"http://www.w3.org/2000/svg\" height=\"24px\"viewBox=\"0 0 24 24\"\n",
              "       width=\"24px\">\n",
              "    <path d=\"M0 0h24v24H0V0z\" fill=\"none\"/>\n",
              "    <path d=\"M18.56 5.44l.94 2.06.94-2.06 2.06-.94-2.06-.94-.94-2.06-.94 2.06-2.06.94zm-11 1L8.5 8.5l.94-2.06 2.06-.94-2.06-.94L8.5 2.5l-.94 2.06-2.06.94zm10 10l.94 2.06.94-2.06 2.06-.94-2.06-.94-.94-2.06-.94 2.06-2.06.94z\"/><path d=\"M17.41 7.96l-1.37-1.37c-.4-.4-.92-.59-1.43-.59-.52 0-1.04.2-1.43.59L10.3 9.45l-7.72 7.72c-.78.78-.78 2.05 0 2.83L4 21.41c.39.39.9.59 1.41.59.51 0 1.02-.2 1.41-.59l7.78-7.78 2.81-2.81c.8-.78.8-2.07 0-2.86zM5.41 20L4 18.59l7.72-7.72 1.47 1.35L5.41 20z\"/>\n",
              "  </svg>\n",
              "      </button>\n",
              "      \n",
              "  <style>\n",
              "    .colab-df-container {\n",
              "      display:flex;\n",
              "      flex-wrap:wrap;\n",
              "      gap: 12px;\n",
              "    }\n",
              "\n",
              "    .colab-df-convert {\n",
              "      background-color: #E8F0FE;\n",
              "      border: none;\n",
              "      border-radius: 50%;\n",
              "      cursor: pointer;\n",
              "      display: none;\n",
              "      fill: #1967D2;\n",
              "      height: 32px;\n",
              "      padding: 0 0 0 0;\n",
              "      width: 32px;\n",
              "    }\n",
              "\n",
              "    .colab-df-convert:hover {\n",
              "      background-color: #E2EBFA;\n",
              "      box-shadow: 0px 1px 2px rgba(60, 64, 67, 0.3), 0px 1px 3px 1px rgba(60, 64, 67, 0.15);\n",
              "      fill: #174EA6;\n",
              "    }\n",
              "\n",
              "    [theme=dark] .colab-df-convert {\n",
              "      background-color: #3B4455;\n",
              "      fill: #D2E3FC;\n",
              "    }\n",
              "\n",
              "    [theme=dark] .colab-df-convert:hover {\n",
              "      background-color: #434B5C;\n",
              "      box-shadow: 0px 1px 3px 1px rgba(0, 0, 0, 0.15);\n",
              "      filter: drop-shadow(0px 1px 2px rgba(0, 0, 0, 0.3));\n",
              "      fill: #FFFFFF;\n",
              "    }\n",
              "  </style>\n",
              "\n",
              "      <script>\n",
              "        const buttonEl =\n",
              "          document.querySelector('#df-24dc8225-9ade-4d9d-8c32-f5b543f0ed6e button.colab-df-convert');\n",
              "        buttonEl.style.display =\n",
              "          google.colab.kernel.accessAllowed ? 'block' : 'none';\n",
              "\n",
              "        async function convertToInteractive(key) {\n",
              "          const element = document.querySelector('#df-24dc8225-9ade-4d9d-8c32-f5b543f0ed6e');\n",
              "          const dataTable =\n",
              "            await google.colab.kernel.invokeFunction('convertToInteractive',\n",
              "                                                     [key], {});\n",
              "          if (!dataTable) return;\n",
              "\n",
              "          const docLinkHtml = 'Like what you see? Visit the ' +\n",
              "            '<a target=\"_blank\" href=https://colab.research.google.com/notebooks/data_table.ipynb>data table notebook</a>'\n",
              "            + ' to learn more about interactive tables.';\n",
              "          element.innerHTML = '';\n",
              "          dataTable['output_type'] = 'display_data';\n",
              "          await google.colab.output.renderOutput(dataTable, element);\n",
              "          const docLink = document.createElement('div');\n",
              "          docLink.innerHTML = docLinkHtml;\n",
              "          element.appendChild(docLink);\n",
              "        }\n",
              "      </script>\n",
              "    </div>\n",
              "  </div>\n",
              "  "
            ]
          },
          "metadata": {},
          "execution_count": 46
        }
      ]
    },
    {
      "cell_type": "code",
      "source": [
        "df['Emocao'] = df['Emocao'].map(emotion_dict)\n",
        "df['Caminho'] = df['Caminho'].apply(lambda x: x[0] + '/' + x[1])\n",
        "df"
      ],
      "metadata": {
        "colab": {
          "base_uri": "https://localhost:8080/",
          "height": 423
        },
        "id": "jUNUlt1f0uhm",
        "outputId": "16aaa6a9-2863-47cb-8da5-384bf872e44e"
      },
      "execution_count": null,
      "outputs": [
        {
          "output_type": "execute_result",
          "data": {
            "text/plain": [
              "       Emocao                                            Caminho\n",
              "0      neutra  /content/drive/MyDrive/DatasetSavee/neutro/n1 ...\n",
              "1      neutra  /content/drive/MyDrive/DatasetSavee/neutro/n1 ...\n",
              "2      neutra  /content/drive/MyDrive/DatasetSavee/neutro/n1 ...\n",
              "3      neutra  /content/drive/MyDrive/DatasetSavee/neutro/n1 ...\n",
              "4      neutra  /content/drive/MyDrive/DatasetSavee/neutro/n1 ...\n",
              "..        ...                                                ...\n",
              "234  estresse  /content/drive/MyDrive/DatasetSavee/estresse/f...\n",
              "235  estresse  /content/drive/MyDrive/DatasetSavee/estresse/f...\n",
              "236  estresse  /content/drive/MyDrive/DatasetSavee/estresse/f...\n",
              "237  estresse  /content/drive/MyDrive/DatasetSavee/estresse/f...\n",
              "238  estresse  /content/drive/MyDrive/DatasetSavee/estresse/f...\n",
              "\n",
              "[239 rows x 2 columns]"
            ],
            "text/html": [
              "\n",
              "  <div id=\"df-44ceb284-fd92-4624-b08d-5f154cc07fe2\">\n",
              "    <div class=\"colab-df-container\">\n",
              "      <div>\n",
              "<style scoped>\n",
              "    .dataframe tbody tr th:only-of-type {\n",
              "        vertical-align: middle;\n",
              "    }\n",
              "\n",
              "    .dataframe tbody tr th {\n",
              "        vertical-align: top;\n",
              "    }\n",
              "\n",
              "    .dataframe thead th {\n",
              "        text-align: right;\n",
              "    }\n",
              "</style>\n",
              "<table border=\"1\" class=\"dataframe\">\n",
              "  <thead>\n",
              "    <tr style=\"text-align: right;\">\n",
              "      <th></th>\n",
              "      <th>Emocao</th>\n",
              "      <th>Caminho</th>\n",
              "    </tr>\n",
              "  </thead>\n",
              "  <tbody>\n",
              "    <tr>\n",
              "      <th>0</th>\n",
              "      <td>neutra</td>\n",
              "      <td>/content/drive/MyDrive/DatasetSavee/neutro/n1 ...</td>\n",
              "    </tr>\n",
              "    <tr>\n",
              "      <th>1</th>\n",
              "      <td>neutra</td>\n",
              "      <td>/content/drive/MyDrive/DatasetSavee/neutro/n1 ...</td>\n",
              "    </tr>\n",
              "    <tr>\n",
              "      <th>2</th>\n",
              "      <td>neutra</td>\n",
              "      <td>/content/drive/MyDrive/DatasetSavee/neutro/n1 ...</td>\n",
              "    </tr>\n",
              "    <tr>\n",
              "      <th>3</th>\n",
              "      <td>neutra</td>\n",
              "      <td>/content/drive/MyDrive/DatasetSavee/neutro/n1 ...</td>\n",
              "    </tr>\n",
              "    <tr>\n",
              "      <th>4</th>\n",
              "      <td>neutra</td>\n",
              "      <td>/content/drive/MyDrive/DatasetSavee/neutro/n1 ...</td>\n",
              "    </tr>\n",
              "    <tr>\n",
              "      <th>...</th>\n",
              "      <td>...</td>\n",
              "      <td>...</td>\n",
              "    </tr>\n",
              "    <tr>\n",
              "      <th>234</th>\n",
              "      <td>estresse</td>\n",
              "      <td>/content/drive/MyDrive/DatasetSavee/estresse/f...</td>\n",
              "    </tr>\n",
              "    <tr>\n",
              "      <th>235</th>\n",
              "      <td>estresse</td>\n",
              "      <td>/content/drive/MyDrive/DatasetSavee/estresse/f...</td>\n",
              "    </tr>\n",
              "    <tr>\n",
              "      <th>236</th>\n",
              "      <td>estresse</td>\n",
              "      <td>/content/drive/MyDrive/DatasetSavee/estresse/f...</td>\n",
              "    </tr>\n",
              "    <tr>\n",
              "      <th>237</th>\n",
              "      <td>estresse</td>\n",
              "      <td>/content/drive/MyDrive/DatasetSavee/estresse/f...</td>\n",
              "    </tr>\n",
              "    <tr>\n",
              "      <th>238</th>\n",
              "      <td>estresse</td>\n",
              "      <td>/content/drive/MyDrive/DatasetSavee/estresse/f...</td>\n",
              "    </tr>\n",
              "  </tbody>\n",
              "</table>\n",
              "<p>239 rows × 2 columns</p>\n",
              "</div>\n",
              "      <button class=\"colab-df-convert\" onclick=\"convertToInteractive('df-44ceb284-fd92-4624-b08d-5f154cc07fe2')\"\n",
              "              title=\"Convert this dataframe to an interactive table.\"\n",
              "              style=\"display:none;\">\n",
              "        \n",
              "  <svg xmlns=\"http://www.w3.org/2000/svg\" height=\"24px\"viewBox=\"0 0 24 24\"\n",
              "       width=\"24px\">\n",
              "    <path d=\"M0 0h24v24H0V0z\" fill=\"none\"/>\n",
              "    <path d=\"M18.56 5.44l.94 2.06.94-2.06 2.06-.94-2.06-.94-.94-2.06-.94 2.06-2.06.94zm-11 1L8.5 8.5l.94-2.06 2.06-.94-2.06-.94L8.5 2.5l-.94 2.06-2.06.94zm10 10l.94 2.06.94-2.06 2.06-.94-2.06-.94-.94-2.06-.94 2.06-2.06.94z\"/><path d=\"M17.41 7.96l-1.37-1.37c-.4-.4-.92-.59-1.43-.59-.52 0-1.04.2-1.43.59L10.3 9.45l-7.72 7.72c-.78.78-.78 2.05 0 2.83L4 21.41c.39.39.9.59 1.41.59.51 0 1.02-.2 1.41-.59l7.78-7.78 2.81-2.81c.8-.78.8-2.07 0-2.86zM5.41 20L4 18.59l7.72-7.72 1.47 1.35L5.41 20z\"/>\n",
              "  </svg>\n",
              "      </button>\n",
              "      \n",
              "  <style>\n",
              "    .colab-df-container {\n",
              "      display:flex;\n",
              "      flex-wrap:wrap;\n",
              "      gap: 12px;\n",
              "    }\n",
              "\n",
              "    .colab-df-convert {\n",
              "      background-color: #E8F0FE;\n",
              "      border: none;\n",
              "      border-radius: 50%;\n",
              "      cursor: pointer;\n",
              "      display: none;\n",
              "      fill: #1967D2;\n",
              "      height: 32px;\n",
              "      padding: 0 0 0 0;\n",
              "      width: 32px;\n",
              "    }\n",
              "\n",
              "    .colab-df-convert:hover {\n",
              "      background-color: #E2EBFA;\n",
              "      box-shadow: 0px 1px 2px rgba(60, 64, 67, 0.3), 0px 1px 3px 1px rgba(60, 64, 67, 0.15);\n",
              "      fill: #174EA6;\n",
              "    }\n",
              "\n",
              "    [theme=dark] .colab-df-convert {\n",
              "      background-color: #3B4455;\n",
              "      fill: #D2E3FC;\n",
              "    }\n",
              "\n",
              "    [theme=dark] .colab-df-convert:hover {\n",
              "      background-color: #434B5C;\n",
              "      box-shadow: 0px 1px 3px 1px rgba(0, 0, 0, 0.15);\n",
              "      filter: drop-shadow(0px 1px 2px rgba(0, 0, 0, 0.3));\n",
              "      fill: #FFFFFF;\n",
              "    }\n",
              "  </style>\n",
              "\n",
              "      <script>\n",
              "        const buttonEl =\n",
              "          document.querySelector('#df-44ceb284-fd92-4624-b08d-5f154cc07fe2 button.colab-df-convert');\n",
              "        buttonEl.style.display =\n",
              "          google.colab.kernel.accessAllowed ? 'block' : 'none';\n",
              "\n",
              "        async function convertToInteractive(key) {\n",
              "          const element = document.querySelector('#df-44ceb284-fd92-4624-b08d-5f154cc07fe2');\n",
              "          const dataTable =\n",
              "            await google.colab.kernel.invokeFunction('convertToInteractive',\n",
              "                                                     [key], {});\n",
              "          if (!dataTable) return;\n",
              "\n",
              "          const docLinkHtml = 'Like what you see? Visit the ' +\n",
              "            '<a target=\"_blank\" href=https://colab.research.google.com/notebooks/data_table.ipynb>data table notebook</a>'\n",
              "            + ' to learn more about interactive tables.';\n",
              "          element.innerHTML = '';\n",
              "          dataTable['output_type'] = 'display_data';\n",
              "          await google.colab.output.renderOutput(dataTable, element);\n",
              "          const docLink = document.createElement('div');\n",
              "          docLink.innerHTML = docLinkHtml;\n",
              "          element.appendChild(docLink);\n",
              "        }\n",
              "      </script>\n",
              "    </div>\n",
              "  </div>\n",
              "  "
            ]
          },
          "metadata": {},
          "execution_count": 47
        }
      ]
    },
    {
      "cell_type": "code",
      "source": [
        "df.describe()"
      ],
      "metadata": {
        "colab": {
          "base_uri": "https://localhost:8080/",
          "height": 175
        },
        "id": "MfNKkY0AzcXc",
        "outputId": "09b22e38-0614-4657-bd0a-fbe2907b311b"
      },
      "execution_count": null,
      "outputs": [
        {
          "output_type": "execute_result",
          "data": {
            "text/plain": [
              "        Emocao                                            Caminho\n",
              "count      239                                                239\n",
              "unique       2                                                239\n",
              "top     neutra  /content/drive/MyDrive/DatasetSavee/neutro/n1 ...\n",
              "freq       120                                                  1"
            ],
            "text/html": [
              "\n",
              "  <div id=\"df-f792edc4-72f0-4e33-a342-5521a962145c\">\n",
              "    <div class=\"colab-df-container\">\n",
              "      <div>\n",
              "<style scoped>\n",
              "    .dataframe tbody tr th:only-of-type {\n",
              "        vertical-align: middle;\n",
              "    }\n",
              "\n",
              "    .dataframe tbody tr th {\n",
              "        vertical-align: top;\n",
              "    }\n",
              "\n",
              "    .dataframe thead th {\n",
              "        text-align: right;\n",
              "    }\n",
              "</style>\n",
              "<table border=\"1\" class=\"dataframe\">\n",
              "  <thead>\n",
              "    <tr style=\"text-align: right;\">\n",
              "      <th></th>\n",
              "      <th>Emocao</th>\n",
              "      <th>Caminho</th>\n",
              "    </tr>\n",
              "  </thead>\n",
              "  <tbody>\n",
              "    <tr>\n",
              "      <th>count</th>\n",
              "      <td>239</td>\n",
              "      <td>239</td>\n",
              "    </tr>\n",
              "    <tr>\n",
              "      <th>unique</th>\n",
              "      <td>2</td>\n",
              "      <td>239</td>\n",
              "    </tr>\n",
              "    <tr>\n",
              "      <th>top</th>\n",
              "      <td>neutra</td>\n",
              "      <td>/content/drive/MyDrive/DatasetSavee/neutro/n1 ...</td>\n",
              "    </tr>\n",
              "    <tr>\n",
              "      <th>freq</th>\n",
              "      <td>120</td>\n",
              "      <td>1</td>\n",
              "    </tr>\n",
              "  </tbody>\n",
              "</table>\n",
              "</div>\n",
              "      <button class=\"colab-df-convert\" onclick=\"convertToInteractive('df-f792edc4-72f0-4e33-a342-5521a962145c')\"\n",
              "              title=\"Convert this dataframe to an interactive table.\"\n",
              "              style=\"display:none;\">\n",
              "        \n",
              "  <svg xmlns=\"http://www.w3.org/2000/svg\" height=\"24px\"viewBox=\"0 0 24 24\"\n",
              "       width=\"24px\">\n",
              "    <path d=\"M0 0h24v24H0V0z\" fill=\"none\"/>\n",
              "    <path d=\"M18.56 5.44l.94 2.06.94-2.06 2.06-.94-2.06-.94-.94-2.06-.94 2.06-2.06.94zm-11 1L8.5 8.5l.94-2.06 2.06-.94-2.06-.94L8.5 2.5l-.94 2.06-2.06.94zm10 10l.94 2.06.94-2.06 2.06-.94-2.06-.94-.94-2.06-.94 2.06-2.06.94z\"/><path d=\"M17.41 7.96l-1.37-1.37c-.4-.4-.92-.59-1.43-.59-.52 0-1.04.2-1.43.59L10.3 9.45l-7.72 7.72c-.78.78-.78 2.05 0 2.83L4 21.41c.39.39.9.59 1.41.59.51 0 1.02-.2 1.41-.59l7.78-7.78 2.81-2.81c.8-.78.8-2.07 0-2.86zM5.41 20L4 18.59l7.72-7.72 1.47 1.35L5.41 20z\"/>\n",
              "  </svg>\n",
              "      </button>\n",
              "      \n",
              "  <style>\n",
              "    .colab-df-container {\n",
              "      display:flex;\n",
              "      flex-wrap:wrap;\n",
              "      gap: 12px;\n",
              "    }\n",
              "\n",
              "    .colab-df-convert {\n",
              "      background-color: #E8F0FE;\n",
              "      border: none;\n",
              "      border-radius: 50%;\n",
              "      cursor: pointer;\n",
              "      display: none;\n",
              "      fill: #1967D2;\n",
              "      height: 32px;\n",
              "      padding: 0 0 0 0;\n",
              "      width: 32px;\n",
              "    }\n",
              "\n",
              "    .colab-df-convert:hover {\n",
              "      background-color: #E2EBFA;\n",
              "      box-shadow: 0px 1px 2px rgba(60, 64, 67, 0.3), 0px 1px 3px 1px rgba(60, 64, 67, 0.15);\n",
              "      fill: #174EA6;\n",
              "    }\n",
              "\n",
              "    [theme=dark] .colab-df-convert {\n",
              "      background-color: #3B4455;\n",
              "      fill: #D2E3FC;\n",
              "    }\n",
              "\n",
              "    [theme=dark] .colab-df-convert:hover {\n",
              "      background-color: #434B5C;\n",
              "      box-shadow: 0px 1px 3px 1px rgba(0, 0, 0, 0.15);\n",
              "      filter: drop-shadow(0px 1px 2px rgba(0, 0, 0, 0.3));\n",
              "      fill: #FFFFFF;\n",
              "    }\n",
              "  </style>\n",
              "\n",
              "      <script>\n",
              "        const buttonEl =\n",
              "          document.querySelector('#df-f792edc4-72f0-4e33-a342-5521a962145c button.colab-df-convert');\n",
              "        buttonEl.style.display =\n",
              "          google.colab.kernel.accessAllowed ? 'block' : 'none';\n",
              "\n",
              "        async function convertToInteractive(key) {\n",
              "          const element = document.querySelector('#df-f792edc4-72f0-4e33-a342-5521a962145c');\n",
              "          const dataTable =\n",
              "            await google.colab.kernel.invokeFunction('convertToInteractive',\n",
              "                                                     [key], {});\n",
              "          if (!dataTable) return;\n",
              "\n",
              "          const docLinkHtml = 'Like what you see? Visit the ' +\n",
              "            '<a target=\"_blank\" href=https://colab.research.google.com/notebooks/data_table.ipynb>data table notebook</a>'\n",
              "            + ' to learn more about interactive tables.';\n",
              "          element.innerHTML = '';\n",
              "          dataTable['output_type'] = 'display_data';\n",
              "          await google.colab.output.renderOutput(dataTable, element);\n",
              "          const docLink = document.createElement('div');\n",
              "          docLink.innerHTML = docLinkHtml;\n",
              "          element.appendChild(docLink);\n",
              "        }\n",
              "      </script>\n",
              "    </div>\n",
              "  </div>\n",
              "  "
            ]
          },
          "metadata": {},
          "execution_count": 48
        }
      ]
    },
    {
      "cell_type": "code",
      "source": [
        "df.Emocao.value_counts()"
      ],
      "metadata": {
        "colab": {
          "base_uri": "https://localhost:8080/"
        },
        "id": "9CtF_rJc2ooV",
        "outputId": "8ea49510-ebf0-45aa-ce2b-76b3bcc621df"
      },
      "execution_count": null,
      "outputs": [
        {
          "output_type": "execute_result",
          "data": {
            "text/plain": [
              "neutra      120\n",
              "estresse    119\n",
              "Name: Emocao, dtype: int64"
            ]
          },
          "metadata": {},
          "execution_count": 49
        }
      ]
    },
    {
      "cell_type": "code",
      "source": [
        "random_samples = df.groupby('Emocao').sample(1)\n",
        "audio_samples, labels = random_samples['Caminho'].tolist(), random_samples['Emocao'].tolist()"
      ],
      "metadata": {
        "id": "KWJTKN0MZBiI"
      },
      "execution_count": null,
      "outputs": []
    },
    {
      "cell_type": "code",
      "source": [
        "fig, axs = plt.subplots(1, 1, figsize=(10,5))\n",
        "\n",
        "data, sample_rate = librosa.load(audio_samples[0], sr = None)\n",
        "librosa.display.waveplot(data, sample_rate, ax=axs)\n",
        "axs.set_title('{}'.format(labels[0]))\n",
        "\n",
        "fig.tight_layout()"
      ],
      "metadata": {
        "colab": {
          "base_uri": "https://localhost:8080/",
          "height": 369
        },
        "id": "-DkP0z203J2-",
        "outputId": "2c1dd42d-f3f3-4cce-8852-1ac93b9b89f7"
      },
      "execution_count": null,
      "outputs": [
        {
          "output_type": "display_data",
          "data": {
            "text/plain": [
              "<Figure size 720x360 with 1 Axes>"
            ],
            "image/png": "[encoded data removed]"
          },
          "metadata": {
            "needs_background": "light"
          }
        }
      ]
    },
    {
      "cell_type": "code",
      "source": [
        "fig, axs = plt.subplots(1, 1, figsize=(10,5))\n",
        "\n",
        "data, sample_rate = librosa.load(audio_samples[1], sr = None)\n",
        "librosa.display.waveplot(data, sample_rate, ax=axs)\n",
        "axs.set_title('{}'.format(labels[1]))\n",
        "\n",
        "fig.tight_layout()"
      ],
      "metadata": {
        "colab": {
          "base_uri": "https://localhost:8080/",
          "height": 369
        },
        "id": "lJnC6111YxO3",
        "outputId": "13702128-707c-4b56-ca5f-a797533ffb6f"
      },
      "execution_count": null,
      "outputs": [
        {
          "output_type": "display_data",
          "data": {
            "text/plain": [
              "<Figure size 720x360 with 1 Axes>"
            ],
            "image/png": "[encoded data removed]"
          },
          "metadata": {
            "needs_background": "light"
          }
        }
      ]
    },
    {
      "cell_type": "markdown",
      "source": [
        "### Espectrogramas de MFCC's"
      ],
      "metadata": {
        "id": "Y8C2NgAE3c79"
      }
    },
    {
      "cell_type": "code",
      "source": [
        "fig, axs = plt.subplots(1, 1, figsize=(10,5))\n",
        "\n",
        "data, sample_rate = librosa.load(audio_samples[0], sr = None)\n",
        "mfccs = librosa.feature.mfcc(y = data, sr=sample_rate, n_mfcc=20).T\n",
        "mfccs_db = librosa.amplitude_to_db(np.abs(mfccs))\n",
        "img = librosa.display.specshow(mfccs_db, x_axis=\"time\", y_axis='log', ax=axs, cmap = 'Spectral')\n",
        "axs.set_title('{}'.format(labels[0]))\n",
        "fig.colorbar(img, ax=axs, format='%+2.f dB')\n",
        "\n",
        "fig.tight_layout()"
      ],
      "metadata": {
        "colab": {
          "base_uri": "https://localhost:8080/",
          "height": 369
        },
        "id": "7j3b7n6j3eBu",
        "outputId": "148298cb-bc08-4c24-e5da-22476bce2e98"
      },
      "execution_count": null,
      "outputs": [
        {
          "output_type": "display_data",
          "data": {
            "text/plain": [
              "<Figure size 720x360 with 2 Axes>"
            ],
            "image/png": "[encoded data removed]"
          },
          "metadata": {
            "needs_background": "light"
          }
        }
      ]
    },
    {
      "cell_type": "code",
      "source": [
        "fig, axs = plt.subplots(1, 1, figsize=(10,5))\n",
        "\n",
        "data, sample_rate = librosa.load(audio_samples[1], sr = None)\n",
        "mfccs = librosa.feature.mfcc(y = data, sr=sample_rate, n_mfcc=12).T\n",
        "mfccs_db = librosa.amplitude_to_db(np.abs(mfccs))\n",
        "img = librosa.display.specshow(mfccs_db, x_axis=\"time\", y_axis='log', ax=axs, cmap = 'Spectral')\n",
        "axs.set_title('{}'.format(labels[1]))\n",
        "fig.colorbar(img, ax=axs, format='%+2.f dB')\n",
        "\n",
        "fig.tight_layout()"
      ],
      "metadata": {
        "colab": {
          "base_uri": "https://localhost:8080/",
          "height": 369
        },
        "id": "v6gAUYv5ZWFl",
        "outputId": "6a5433be-bcb2-4e9f-805a-710df8f4e35c"
      },
      "execution_count": null,
      "outputs": [
        {
          "output_type": "display_data",
          "data": {
            "text/plain": [
              "<Figure size 720x360 with 2 Axes>"
            ],
            "image/png": "[encoded data removed]"
          },
          "metadata": {
            "needs_background": "light"
          }
        }
      ]
    },
    {
      "cell_type": "markdown",
      "source": [
        "# Pré-processamento\n",
        "### Extraindo recursos/características MFCC's de cada arquivo de áudio do dataset"
      ],
      "metadata": {
        "id": "6UFo_s0E37E3"
      }
    },
    {
      "cell_type": "code",
      "source": [
        "def extract_features(file_name):\n",
        "    data, sample_rate = librosa.load(file_name, sr = None, res_type = 'kaiser_fast')\n",
        "    mfccs_features = librosa.feature.mfcc(y = data, sr = sample_rate, n_fft=2048, hop_length=512, n_mfcc = 12)\n",
        "    mfccs_scaled_features = np.mean(mfccs_features.T, axis = 0)\n",
        "    return mfccs_scaled_features\n",
        "\n",
        "extracted_features=[]\n",
        "for path in tqdm(df.Caminho.values):\n",
        "  data = extract_features(path)\n",
        "  extracted_features.append([data])"
      ],
      "metadata": {
        "colab": {
          "base_uri": "https://localhost:8080/"
        },
        "id": "aRvQxUiR3_L3",
        "outputId": "867588a6-a492-4509-b89c-8bd3ccd8c21e"
      },
      "execution_count": null,
      "outputs": [
        {
          "output_type": "stream",
          "name": "stderr",
          "text": [
            "100%|██████████| 3495/3495 [23:30<00:00,  2.48it/s]\n"
          ]
        }
      ]
    },
    {
      "cell_type": "markdown",
      "source": [
        " #sr = None para utilizar a taxa a amostragem padrão do proprio arquivo\n",
        "\n",
        "  # n_mfcc pode variar para cada base de dados"
      ],
      "metadata": {
        "id": "TMNwV4txrRKa"
      }
    },
    {
      "cell_type": "code",
      "source": [
        "extracted_features_df = pd.DataFrame(extracted_features, columns = ['feature'])\n",
        "X = np.array(extracted_features_df['feature'].tolist())\n",
        "y = np.array(df.Emocao.tolist())"
      ],
      "metadata": {
        "id": "CBJFTeBt5Lw_"
      },
      "execution_count": null,
      "outputs": []
    },
    {
      "cell_type": "code",
      "source": [
        "labelencoder = LabelEncoder()\n",
        "y = to_categorical(labelencoder.fit_transform(y))"
      ],
      "metadata": {
        "id": "8eU12kVu5uUH"
      },
      "execution_count": null,
      "outputs": []
    },
    {
      "cell_type": "code",
      "source": [
        "# 20% teste e 80% treinamento\n",
        "X_train, X_test, y_train, y_test = train_test_split(X, y, test_size=0.2, random_state=1)"
      ],
      "metadata": {
        "id": "M3z_r3cW5_Jv"
      },
      "execution_count": null,
      "outputs": []
    },
    {
      "cell_type": "code",
      "source": [
        "X_train = X_train[:,:,np.newaxis]\n",
        "X_test = X_test[:,:,np.newaxis]\n",
        "X_train.shape, X_test.shape"
      ],
      "metadata": {
        "colab": {
          "base_uri": "https://localhost:8080/"
        },
        "id": "1YuNA4AVEyfJ",
        "outputId": "8341a430-34dd-4571-8775-c182ecfb7ba5"
      },
      "execution_count": null,
      "outputs": [
        {
          "output_type": "execute_result",
          "data": {
            "text/plain": [
              "((2796, 12, 1), (699, 12, 1))"
            ]
          },
          "metadata": {},
          "execution_count": 33
        }
      ]
    },
    {
      "cell_type": "code",
      "source": [
        "num_labels = y.shape[1]\n",
        "num_labels"
      ],
      "metadata": {
        "colab": {
          "base_uri": "https://localhost:8080/"
        },
        "id": "uMbdZm9D6ZyX",
        "outputId": "539100da-aab0-41df-c9b8-6e5f2b089fbd"
      },
      "execution_count": null,
      "outputs": [
        {
          "output_type": "execute_result",
          "data": {
            "text/plain": [
              "2"
            ]
          },
          "metadata": {},
          "execution_count": 34
        }
      ]
    },
    {
      "cell_type": "markdown",
      "source": [
        "### Criação da estrutura da rede neural\n",
        "\n",
        " * Parâmetros:\n",
        "  * `Sequential`, é a classe para criar a rede neural, pois uma rede neural nada mais é que uma sequência de camadas (camada e entrada, camadas ocultas, camada de saída);  \n",
        "  * `activation`, função de ativação;\n",
        "  * `input_shape`, na primeira camada este é o tamanho dos dados de entrada\n",
        "  * Camada `MaxPooling1D`, que vai fazer a extração das características principais;\n",
        "  * Camada `LSTM`, uma rede neural recorrente que realiza o transporte dos dados durante um longo período de tempo;\n",
        "  * Camada `Flatten`, para transformar de matriz em vetor;\n",
        "  * Camada `Dense`, quando um neurônio de uma camada está ligado a todas os outros neurônios das outras camadas;\n",
        "  * `Dropout`, é uma técnica para diminuir o overfitting;"
      ],
      "metadata": {
        "id": "BEWavS_46w-Q"
      }
    },
    {
      "cell_type": "code",
      "source": [
        "input_shape = (X_train.shape[1], X_train.shape[2])\n",
        "input_shape"
      ],
      "metadata": {
        "colab": {
          "base_uri": "https://localhost:8080/"
        },
        "id": "hTSqlMMd7IiP",
        "outputId": "03e02fa5-6d0d-4bd9-bc74-856f0d6d6f61"
      },
      "execution_count": null,
      "outputs": [
        {
          "output_type": "execute_result",
          "data": {
            "text/plain": [
              "(12, 1)"
            ]
          },
          "metadata": {},
          "execution_count": 35
        }
      ]
    },
    {
      "cell_type": "code",
      "source": [
        "model=Sequential()\n",
        "\n",
        "model.add(LSTM(64, return_sequences=True, activation='relu', input_shape=input_shape))\n",
        "model.add(LSTM(100, return_sequences=True, activation='relu'))\n",
        "model.add(LSTM(100, return_sequences=True, activation='relu'))\n",
        "model.add(LSTM(64, recurrent_dropout=0.3))\n",
        "model.add(Dense(num_labels, activation='softmax'))\n",
        "\n",
        "optimiser = tf.keras.optimizers.Adam(learning_rate=0.0001)\n",
        "model.compile(loss='categorical_crossentropy',metrics=['accuracy'],optimizer=optimiser)\n",
        "model.summary()"
      ],
      "metadata": {
        "colab": {
          "base_uri": "https://localhost:8080/"
        },
        "id": "TGcLtk8_7J1f",
        "outputId": "a6d3b38d-1cce-4e56-9f48-b0579dea45d8"
      },
      "execution_count": null,
      "outputs": [
        {
          "output_type": "stream",
          "name": "stderr",
          "text": [
            "WARNING:tensorflow:Layer lstm will not use cuDNN kernels since it doesn't meet the criteria. It will use a generic GPU kernel as fallback when running on GPU.\n",
            "WARNING:tensorflow:Layer lstm_1 will not use cuDNN kernels since it doesn't meet the criteria. It will use a generic GPU kernel as fallback when running on GPU.\n",
            "WARNING:tensorflow:Layer lstm_2 will not use cuDNN kernels since it doesn't meet the criteria. It will use a generic GPU kernel as fallback when running on GPU.\n",
            "WARNING:tensorflow:Layer lstm_3 will not use cuDNN kernels since it doesn't meet the criteria. It will use a generic GPU kernel as fallback when running on GPU.\n"
          ]
        },
        {
          "output_type": "stream",
          "name": "stdout",
          "text": [
            "Model: \"sequential_1\"\n",
            "_________________________________________________________________\n",
            " Layer (type)                Output Shape              Param #   \n",
            "=================================================================\n",
            " lstm (LSTM)                 (None, 12, 64)            16896     \n",
            "                                                                 \n",
            " lstm_1 (LSTM)               (None, 12, 100)           66000     \n",
            "                                                                 \n",
            " lstm_2 (LSTM)               (None, 12, 100)           80400     \n",
            "                                                                 \n",
            " lstm_3 (LSTM)               (None, 64)                42240     \n",
            "                                                                 \n",
            " dense (Dense)               (None, 2)                 130       \n",
            "                                                                 \n",
            "=================================================================\n",
            "Total params: 205,666\n",
            "Trainable params: 205,666\n",
            "Non-trainable params: 0\n",
            "_________________________________________________________________\n"
          ]
        }
      ]
    },
    {
      "cell_type": "code",
      "source": [
        "plot_model(model, to_file='model_plot.png', show_shapes=True, show_layer_names=True)"
      ],
      "metadata": {
        "colab": {
          "base_uri": "https://localhost:8080/",
          "height": 644
        },
        "id": "5CXAG-RQRW-a",
        "outputId": "89b35221-d937-4f2b-bc38-28e373dc6e25"
      },
      "execution_count": null,
      "outputs": [
        {
          "output_type": "execute_result",
          "data": {
            "image/png": "[encoded data removed]",
            "text/plain": [
              "<IPython.core.display.Image object>"
            ]
          },
          "metadata": {},
          "execution_count": 37
        }
      ]
    },
    {
      "cell_type": "markdown",
      "source": [
        " # Treinando o modelo\n",
        " * `num_epochs`, número de épocas de treinamento\n",
        " * `num_batch_size`, isto indica que vamos enviar de 32 em 32 recursos de áudio (32, 64, 96, 128,...8732)\n",
        "\n",
        "ModelCheckpoint, para salvar o modelo enquanto faz o treinamento\n",
        " * `filepath`, caminho onde será salvo o modelo. Para isto temos uma pasta no Drive chamada *saved_models*\n",
        " * `verbose`, mostrar mensagens enquanto a rede neural é treinada\n",
        " * `save_best_only = True`, para salvar o modelo somente quando houver uma melhora no resultado\n",
        "\n",
        "`model_history` para armazenar o histórico de treinamento:\n",
        " * `model.fit` para fazer o ajuste do pesos ao longo do treinamento\n",
        "  * `X_train`, `Y_train`, dados de treinamento\n",
        "  * `batch_size = num_batch_size` definido acima\n",
        "  * `epochs = num_epochs` definido acima\n",
        "  * `validation_data=(X_test, Y_test)`, dados de teste para monitorarmos como está o percentual de acerto da rede neural a cada época\n",
        "  * `callbacks=[checkpointer]`, checkpointer definido anteriormente\n",
        "  * `verbose = 1`, para mostrar as mensagens"
      ],
      "metadata": {
        "id": "pjHf9OrJ-fMQ"
      }
    },
    {
      "cell_type": "code",
      "source": [
        "num_epochs = 100\n",
        "num_batch_size = 32\n",
        "\n",
        "checkpointerRavdess = ModelCheckpoint(filepath='/content/saved_models/reconhecimento_emocao_ravdess.hdf5',\n",
        "                               verbose=1, save_best_only=True)\n",
        "checkpointerSavee = ModelCheckpoint(filepath='/content/saved_models/reconhecimento_emocao_savee.hdf5',\n",
        "                               verbose=1, save_best_only=True)\n",
        "\n",
        "model_history = model.fit(X_train, y_train, batch_size=num_batch_size, epochs=num_epochs,\n",
        "                          validation_data=(X_test, y_test), callbacks=[checkpointerSavee], verbose=1)"
      ],
      "metadata": {
        "colab": {
          "base_uri": "https://localhost:8080/"
        },
        "id": "KAKORKPc-MDv",
        "outputId": "91937ea8-f851-4367-a6c5-ac34de3c56c2"
      },
      "execution_count": null,
      "outputs": [
        {
          "output_type": "stream",
          "name": "stdout",
          "text": [
            "Epoch 1/100\n",
            "6/6 [==============================] - ETA: 0s - loss: 0.1495 - accuracy: 0.9424\n",
            "Epoch 1: val_loss improved from inf to 0.14061, saving model to /content/saved_models/reconhecimento_emocao_savee.hdf5\n",
            "6/6 [==============================] - 1s 144ms/step - loss: 0.1495 - accuracy: 0.9424 - val_loss: 0.1406 - val_accuracy: 0.9375\n",
            "Epoch 2/100\n",
            "6/6 [==============================] - ETA: 0s - loss: 0.1461 - accuracy: 0.9319\n",
            "Epoch 2: val_loss did not improve from 0.14061\n",
            "6/6 [==============================] - 1s 110ms/step - loss: 0.1461 - accuracy: 0.9319 - val_loss: 0.1599 - val_accuracy: 0.9167\n",
            "Epoch 3/100\n",
            "6/6 [==============================] - ETA: 0s - loss: 0.1382 - accuracy: 0.9372\n",
            "Epoch 3: val_loss did not improve from 0.14061\n",
            "6/6 [==============================] - 1s 112ms/step - loss: 0.1382 - accuracy: 0.9372 - val_loss: 0.1469 - val_accuracy: 0.9583\n",
            "Epoch 4/100\n",
            "6/6 [==============================] - ETA: 0s - loss: 0.1288 - accuracy: 0.9476\n",
            "Epoch 4: val_loss did not improve from 0.14061\n",
            "6/6 [==============================] - 1s 104ms/step - loss: 0.1288 - accuracy: 0.9476 - val_loss: 0.1609 - val_accuracy: 0.9167\n",
            "Epoch 5/100\n",
            "6/6 [==============================] - ETA: 0s - loss: 0.1035 - accuracy: 0.9634\n",
            "Epoch 5: val_loss did not improve from 0.14061\n",
            "6/6 [==============================] - 1s 105ms/step - loss: 0.1035 - accuracy: 0.9634 - val_loss: 0.1417 - val_accuracy: 0.9375\n",
            "Epoch 6/100\n",
            "6/6 [==============================] - ETA: 0s - loss: 0.0977 - accuracy: 0.9634\n",
            "Epoch 6: val_loss did not improve from 0.14061\n",
            "6/6 [==============================] - 1s 106ms/step - loss: 0.0977 - accuracy: 0.9634 - val_loss: 0.1634 - val_accuracy: 0.9167\n",
            "Epoch 7/100\n",
            "6/6 [==============================] - ETA: 0s - loss: 0.0787 - accuracy: 0.9895\n",
            "Epoch 7: val_loss did not improve from 0.14061\n",
            "6/6 [==============================] - 1s 112ms/step - loss: 0.0787 - accuracy: 0.9895 - val_loss: 0.1593 - val_accuracy: 0.9375\n",
            "Epoch 8/100\n",
            "6/6 [==============================] - ETA: 0s - loss: 0.0978 - accuracy: 0.9581\n",
            "Epoch 8: val_loss did not improve from 0.14061\n",
            "6/6 [==============================] - 1s 105ms/step - loss: 0.0978 - accuracy: 0.9581 - val_loss: 0.1671 - val_accuracy: 0.9167\n",
            "Epoch 9/100\n",
            "6/6 [==============================] - ETA: 0s - loss: 0.1054 - accuracy: 0.9686\n",
            "Epoch 9: val_loss improved from 0.14061 to 0.11450, saving model to /content/saved_models/reconhecimento_emocao_savee.hdf5\n",
            "6/6 [==============================] - 1s 120ms/step - loss: 0.1054 - accuracy: 0.9686 - val_loss: 0.1145 - val_accuracy: 0.9583\n",
            "Epoch 10/100\n",
            "6/6 [==============================] - ETA: 0s - loss: 0.0881 - accuracy: 0.9581\n",
            "Epoch 10: val_loss did not improve from 0.11450\n",
            "6/6 [==============================] - 1s 112ms/step - loss: 0.0881 - accuracy: 0.9581 - val_loss: 0.1421 - val_accuracy: 0.9375\n",
            "Epoch 11/100\n",
            "6/6 [==============================] - ETA: 0s - loss: 0.0916 - accuracy: 0.9738\n",
            "Epoch 11: val_loss did not improve from 0.11450\n",
            "6/6 [==============================] - 1s 112ms/step - loss: 0.0916 - accuracy: 0.9738 - val_loss: 0.1323 - val_accuracy: 0.9375\n",
            "Epoch 12/100\n",
            "6/6 [==============================] - ETA: 0s - loss: 0.0696 - accuracy: 0.9843\n",
            "Epoch 12: val_loss did not improve from 0.11450\n",
            "6/6 [==============================] - 1s 106ms/step - loss: 0.0696 - accuracy: 0.9843 - val_loss: 0.1361 - val_accuracy: 0.9375\n",
            "Epoch 13/100\n",
            "6/6 [==============================] - ETA: 0s - loss: 0.0605 - accuracy: 0.9843\n",
            "Epoch 13: val_loss did not improve from 0.11450\n",
            "6/6 [==============================] - 1s 106ms/step - loss: 0.0605 - accuracy: 0.9843 - val_loss: 0.1753 - val_accuracy: 0.9375\n",
            "Epoch 14/100\n",
            "6/6 [==============================] - ETA: 0s - loss: 0.0737 - accuracy: 0.9686\n",
            "Epoch 14: val_loss did not improve from 0.11450\n",
            "6/6 [==============================] - 1s 109ms/step - loss: 0.0737 - accuracy: 0.9686 - val_loss: 0.1216 - val_accuracy: 0.9375\n",
            "Epoch 15/100\n",
            "6/6 [==============================] - ETA: 0s - loss: 0.0835 - accuracy: 0.9529\n",
            "Epoch 15: val_loss did not improve from 0.11450\n",
            "6/6 [==============================] - 1s 103ms/step - loss: 0.0835 - accuracy: 0.9529 - val_loss: 0.1483 - val_accuracy: 0.9167\n",
            "Epoch 16/100\n",
            "6/6 [==============================] - ETA: 0s - loss: 0.0548 - accuracy: 0.9948\n",
            "Epoch 16: val_loss improved from 0.11450 to 0.10101, saving model to /content/saved_models/reconhecimento_emocao_savee.hdf5\n",
            "6/6 [==============================] - 1s 115ms/step - loss: 0.0548 - accuracy: 0.9948 - val_loss: 0.1010 - val_accuracy: 0.9583\n",
            "Epoch 17/100\n",
            "6/6 [==============================] - ETA: 0s - loss: 0.0589 - accuracy: 0.9791\n",
            "Epoch 17: val_loss did not improve from 0.10101\n",
            "6/6 [==============================] - 1s 106ms/step - loss: 0.0589 - accuracy: 0.9791 - val_loss: 0.1235 - val_accuracy: 0.9583\n",
            "Epoch 18/100\n",
            "6/6 [==============================] - ETA: 0s - loss: 0.0486 - accuracy: 0.9895\n",
            "Epoch 18: val_loss improved from 0.10101 to 0.07755, saving model to /content/saved_models/reconhecimento_emocao_savee.hdf5\n",
            "6/6 [==============================] - 1s 117ms/step - loss: 0.0486 - accuracy: 0.9895 - val_loss: 0.0776 - val_accuracy: 0.9792\n",
            "Epoch 19/100\n",
            "6/6 [==============================] - ETA: 0s - loss: 0.0777 - accuracy: 0.9686\n",
            "Epoch 19: val_loss did not improve from 0.07755\n",
            "6/6 [==============================] - 1s 105ms/step - loss: 0.0777 - accuracy: 0.9686 - val_loss: 0.1187 - val_accuracy: 0.9375\n",
            "Epoch 20/100\n",
            "6/6 [==============================] - ETA: 0s - loss: 0.0405 - accuracy: 0.9948\n",
            "Epoch 20: val_loss did not improve from 0.07755\n",
            "6/6 [==============================] - 1s 111ms/step - loss: 0.0405 - accuracy: 0.9948 - val_loss: 0.1585 - val_accuracy: 0.9375\n",
            "Epoch 21/100\n",
            "6/6 [==============================] - ETA: 0s - loss: 0.0280 - accuracy: 1.0000\n",
            "Epoch 21: val_loss did not improve from 0.07755\n",
            "6/6 [==============================] - 1s 107ms/step - loss: 0.0280 - accuracy: 1.0000 - val_loss: 0.1241 - val_accuracy: 0.9583\n",
            "Epoch 22/100\n",
            "6/6 [==============================] - ETA: 0s - loss: 0.0232 - accuracy: 1.0000\n",
            "Epoch 22: val_loss did not improve from 0.07755\n",
            "6/6 [==============================] - 1s 113ms/step - loss: 0.0232 - accuracy: 1.0000 - val_loss: 0.1584 - val_accuracy: 0.9167\n",
            "Epoch 23/100\n",
            "6/6 [==============================] - ETA: 0s - loss: 0.0424 - accuracy: 0.9895\n",
            "Epoch 23: val_loss did not improve from 0.07755\n",
            "6/6 [==============================] - 1s 114ms/step - loss: 0.0424 - accuracy: 0.9895 - val_loss: 0.1706 - val_accuracy: 0.9583\n",
            "Epoch 24/100\n",
            "6/6 [==============================] - ETA: 0s - loss: 0.0357 - accuracy: 0.9895\n",
            "Epoch 24: val_loss did not improve from 0.07755\n",
            "6/6 [==============================] - 1s 114ms/step - loss: 0.0357 - accuracy: 0.9895 - val_loss: 0.1626 - val_accuracy: 0.9583\n",
            "Epoch 25/100\n",
            "6/6 [==============================] - ETA: 0s - loss: 0.0392 - accuracy: 0.9895\n",
            "Epoch 25: val_loss did not improve from 0.07755\n",
            "6/6 [==============================] - 1s 116ms/step - loss: 0.0392 - accuracy: 0.9895 - val_loss: 0.2263 - val_accuracy: 0.9167\n",
            "Epoch 26/100\n",
            "6/6 [==============================] - ETA: 0s - loss: 0.0165 - accuracy: 1.0000\n",
            "Epoch 26: val_loss did not improve from 0.07755\n",
            "6/6 [==============================] - 1s 112ms/step - loss: 0.0165 - accuracy: 1.0000 - val_loss: 0.0853 - val_accuracy: 0.9583\n",
            "Epoch 27/100\n",
            "6/6 [==============================] - ETA: 0s - loss: 0.0311 - accuracy: 0.9948\n",
            "Epoch 27: val_loss did not improve from 0.07755\n",
            "6/6 [==============================] - 1s 114ms/step - loss: 0.0311 - accuracy: 0.9948 - val_loss: 0.0969 - val_accuracy: 0.9792\n",
            "Epoch 28/100\n",
            "6/6 [==============================] - ETA: 0s - loss: 0.0461 - accuracy: 0.9843\n",
            "Epoch 28: val_loss did not improve from 0.07755\n",
            "6/6 [==============================] - 1s 114ms/step - loss: 0.0461 - accuracy: 0.9843 - val_loss: 0.2278 - val_accuracy: 0.9167\n",
            "Epoch 29/100\n",
            "6/6 [==============================] - ETA: 0s - loss: 0.1158 - accuracy: 0.9529\n",
            "Epoch 29: val_loss did not improve from 0.07755\n",
            "6/6 [==============================] - 1s 114ms/step - loss: 0.1158 - accuracy: 0.9529 - val_loss: 0.1841 - val_accuracy: 0.9583\n",
            "Epoch 30/100\n",
            "6/6 [==============================] - ETA: 0s - loss: 0.0960 - accuracy: 0.9634\n",
            "Epoch 30: val_loss did not improve from 0.07755\n",
            "6/6 [==============================] - 1s 106ms/step - loss: 0.0960 - accuracy: 0.9634 - val_loss: 0.1651 - val_accuracy: 0.9375\n",
            "Epoch 31/100\n",
            "6/6 [==============================] - ETA: 0s - loss: 0.0508 - accuracy: 0.9738\n",
            "Epoch 31: val_loss did not improve from 0.07755\n",
            "6/6 [==============================] - 1s 112ms/step - loss: 0.0508 - accuracy: 0.9738 - val_loss: 0.0906 - val_accuracy: 0.9792\n",
            "Epoch 32/100\n",
            "6/6 [==============================] - ETA: 0s - loss: 0.0305 - accuracy: 0.9948\n",
            "Epoch 32: val_loss did not improve from 0.07755\n",
            "6/6 [==============================] - 1s 108ms/step - loss: 0.0305 - accuracy: 0.9948 - val_loss: 0.0804 - val_accuracy: 0.9792\n",
            "Epoch 33/100\n",
            "6/6 [==============================] - ETA: 0s - loss: 0.0344 - accuracy: 0.9948\n",
            "Epoch 33: val_loss improved from 0.07755 to 0.07277, saving model to /content/saved_models/reconhecimento_emocao_savee.hdf5\n",
            "6/6 [==============================] - 1s 116ms/step - loss: 0.0344 - accuracy: 0.9948 - val_loss: 0.0728 - val_accuracy: 0.9792\n",
            "Epoch 34/100\n",
            "6/6 [==============================] - ETA: 0s - loss: 0.0180 - accuracy: 1.0000\n",
            "Epoch 34: val_loss did not improve from 0.07277\n",
            "6/6 [==============================] - 1s 106ms/step - loss: 0.0180 - accuracy: 1.0000 - val_loss: 0.0791 - val_accuracy: 0.9792\n",
            "Epoch 35/100\n",
            "6/6 [==============================] - ETA: 0s - loss: 0.0215 - accuracy: 0.9948\n",
            "Epoch 35: val_loss did not improve from 0.07277\n",
            "6/6 [==============================] - 1s 109ms/step - loss: 0.0215 - accuracy: 0.9948 - val_loss: 0.0924 - val_accuracy: 0.9792\n",
            "Epoch 36/100\n",
            "6/6 [==============================] - ETA: 0s - loss: 0.0126 - accuracy: 1.0000\n",
            "Epoch 36: val_loss did not improve from 0.07277\n",
            "6/6 [==============================] - 1s 104ms/step - loss: 0.0126 - accuracy: 1.0000 - val_loss: 0.1318 - val_accuracy: 0.9375\n",
            "Epoch 37/100\n",
            "6/6 [==============================] - ETA: 0s - loss: 0.0109 - accuracy: 1.0000\n",
            "Epoch 37: val_loss did not improve from 0.07277\n",
            "6/6 [==============================] - 1s 112ms/step - loss: 0.0109 - accuracy: 1.0000 - val_loss: 0.1440 - val_accuracy: 0.9375\n",
            "Epoch 38/100\n",
            "6/6 [==============================] - ETA: 0s - loss: 0.0088 - accuracy: 1.0000\n",
            "Epoch 38: val_loss did not improve from 0.07277\n",
            "6/6 [==============================] - 1s 106ms/step - loss: 0.0088 - accuracy: 1.0000 - val_loss: 0.1291 - val_accuracy: 0.9583\n",
            "Epoch 39/100\n",
            "6/6 [==============================] - ETA: 0s - loss: 0.0080 - accuracy: 1.0000\n",
            "Epoch 39: val_loss did not improve from 0.07277\n",
            "6/6 [==============================] - 1s 113ms/step - loss: 0.0080 - accuracy: 1.0000 - val_loss: 0.1312 - val_accuracy: 0.9583\n",
            "Epoch 40/100\n",
            "6/6 [==============================] - ETA: 0s - loss: 0.0071 - accuracy: 1.0000\n",
            "Epoch 40: val_loss did not improve from 0.07277\n",
            "6/6 [==============================] - 1s 112ms/step - loss: 0.0071 - accuracy: 1.0000 - val_loss: 0.1435 - val_accuracy: 0.9583\n",
            "Epoch 41/100\n",
            "6/6 [==============================] - ETA: 0s - loss: 0.0063 - accuracy: 1.0000\n",
            "Epoch 41: val_loss did not improve from 0.07277\n",
            "6/6 [==============================] - 1s 113ms/step - loss: 0.0063 - accuracy: 1.0000 - val_loss: 0.1587 - val_accuracy: 0.9583\n",
            "Epoch 42/100\n",
            "6/6 [==============================] - ETA: 0s - loss: 0.0057 - accuracy: 1.0000\n",
            "Epoch 42: val_loss did not improve from 0.07277\n",
            "6/6 [==============================] - 1s 111ms/step - loss: 0.0057 - accuracy: 1.0000 - val_loss: 0.1605 - val_accuracy: 0.9583\n",
            "Epoch 43/100\n",
            "6/6 [==============================] - ETA: 0s - loss: 0.0053 - accuracy: 1.0000\n",
            "Epoch 43: val_loss did not improve from 0.07277\n",
            "6/6 [==============================] - 1s 108ms/step - loss: 0.0053 - accuracy: 1.0000 - val_loss: 0.1563 - val_accuracy: 0.9583\n",
            "Epoch 44/100\n",
            "6/6 [==============================] - ETA: 0s - loss: 0.0050 - accuracy: 1.0000\n",
            "Epoch 44: val_loss did not improve from 0.07277\n",
            "6/6 [==============================] - 1s 108ms/step - loss: 0.0050 - accuracy: 1.0000 - val_loss: 0.1538 - val_accuracy: 0.9583\n",
            "Epoch 45/100\n",
            "6/6 [==============================] - ETA: 0s - loss: 0.0047 - accuracy: 1.0000\n",
            "Epoch 45: val_loss did not improve from 0.07277\n",
            "6/6 [==============================] - 1s 104ms/step - loss: 0.0047 - accuracy: 1.0000 - val_loss: 0.1566 - val_accuracy: 0.9583\n",
            "Epoch 46/100\n",
            "6/6 [==============================] - ETA: 0s - loss: 0.0046 - accuracy: 1.0000\n",
            "Epoch 46: val_loss did not improve from 0.07277\n",
            "6/6 [==============================] - 1s 113ms/step - loss: 0.0046 - accuracy: 1.0000 - val_loss: 0.1618 - val_accuracy: 0.9583\n",
            "Epoch 47/100\n",
            "6/6 [==============================] - ETA: 0s - loss: 0.0043 - accuracy: 1.0000\n",
            "Epoch 47: val_loss did not improve from 0.07277\n",
            "6/6 [==============================] - 1s 110ms/step - loss: 0.0043 - accuracy: 1.0000 - val_loss: 0.1657 - val_accuracy: 0.9583\n",
            "Epoch 48/100\n",
            "6/6 [==============================] - ETA: 0s - loss: 0.0042 - accuracy: 1.0000\n",
            "Epoch 48: val_loss did not improve from 0.07277\n",
            "6/6 [==============================] - 1s 103ms/step - loss: 0.0042 - accuracy: 1.0000 - val_loss: 0.1708 - val_accuracy: 0.9583\n",
            "Epoch 49/100\n",
            "6/6 [==============================] - ETA: 0s - loss: 0.0040 - accuracy: 1.0000\n",
            "Epoch 49: val_loss did not improve from 0.07277\n",
            "6/6 [==============================] - 1s 105ms/step - loss: 0.0040 - accuracy: 1.0000 - val_loss: 0.1704 - val_accuracy: 0.9583\n",
            "Epoch 50/100\n",
            "6/6 [==============================] - ETA: 0s - loss: 0.0038 - accuracy: 1.0000\n",
            "Epoch 50: val_loss did not improve from 0.07277\n",
            "6/6 [==============================] - 1s 104ms/step - loss: 0.0038 - accuracy: 1.0000 - val_loss: 0.1711 - val_accuracy: 0.9583\n",
            "Epoch 51/100\n",
            "6/6 [==============================] - ETA: 0s - loss: 0.0037 - accuracy: 1.0000\n",
            "Epoch 51: val_loss did not improve from 0.07277\n",
            "6/6 [==============================] - 1s 107ms/step - loss: 0.0037 - accuracy: 1.0000 - val_loss: 0.1723 - val_accuracy: 0.9583\n",
            "Epoch 52/100\n",
            "6/6 [==============================] - ETA: 0s - loss: 0.0036 - accuracy: 1.0000\n",
            "Epoch 52: val_loss did not improve from 0.07277\n",
            "6/6 [==============================] - 1s 110ms/step - loss: 0.0036 - accuracy: 1.0000 - val_loss: 0.1752 - val_accuracy: 0.9583\n",
            "Epoch 53/100\n",
            "6/6 [==============================] - ETA: 0s - loss: 0.0035 - accuracy: 1.0000\n",
            "Epoch 53: val_loss did not improve from 0.07277\n",
            "6/6 [==============================] - 1s 112ms/step - loss: 0.0035 - accuracy: 1.0000 - val_loss: 0.1764 - val_accuracy: 0.9583\n",
            "Epoch 54/100\n",
            "6/6 [==============================] - ETA: 0s - loss: 0.0034 - accuracy: 1.0000\n",
            "Epoch 54: val_loss did not improve from 0.07277\n",
            "6/6 [==============================] - 1s 112ms/step - loss: 0.0034 - accuracy: 1.0000 - val_loss: 0.1772 - val_accuracy: 0.9583\n",
            "Epoch 55/100\n",
            "6/6 [==============================] - ETA: 0s - loss: 0.0033 - accuracy: 1.0000\n",
            "Epoch 55: val_loss did not improve from 0.07277\n",
            "6/6 [==============================] - 2s 302ms/step - loss: 0.0033 - accuracy: 1.0000 - val_loss: 0.1783 - val_accuracy: 0.9583\n",
            "Epoch 56/100\n",
            "6/6 [==============================] - ETA: 0s - loss: 0.0032 - accuracy: 1.0000\n",
            "Epoch 56: val_loss did not improve from 0.07277\n",
            "6/6 [==============================] - 1s 112ms/step - loss: 0.0032 - accuracy: 1.0000 - val_loss: 0.1813 - val_accuracy: 0.9583\n",
            "Epoch 57/100\n",
            "6/6 [==============================] - ETA: 0s - loss: 0.0031 - accuracy: 1.0000\n",
            "Epoch 57: val_loss did not improve from 0.07277\n",
            "6/6 [==============================] - 1s 114ms/step - loss: 0.0031 - accuracy: 1.0000 - val_loss: 0.1828 - val_accuracy: 0.9583\n",
            "Epoch 58/100\n",
            "6/6 [==============================] - ETA: 0s - loss: 0.0031 - accuracy: 1.0000\n",
            "Epoch 58: val_loss did not improve from 0.07277\n",
            "6/6 [==============================] - 1s 104ms/step - loss: 0.0031 - accuracy: 1.0000 - val_loss: 0.1813 - val_accuracy: 0.9583\n",
            "Epoch 59/100\n",
            "6/6 [==============================] - ETA: 0s - loss: 0.0029 - accuracy: 1.0000\n",
            "Epoch 59: val_loss did not improve from 0.07277\n",
            "6/6 [==============================] - 1s 106ms/step - loss: 0.0029 - accuracy: 1.0000 - val_loss: 0.1815 - val_accuracy: 0.9583\n",
            "Epoch 60/100\n",
            "6/6 [==============================] - ETA: 0s - loss: 0.0029 - accuracy: 1.0000\n",
            "Epoch 60: val_loss did not improve from 0.07277\n",
            "6/6 [==============================] - 1s 102ms/step - loss: 0.0029 - accuracy: 1.0000 - val_loss: 0.1856 - val_accuracy: 0.9583\n",
            "Epoch 61/100\n",
            "6/6 [==============================] - ETA: 0s - loss: 0.0028 - accuracy: 1.0000\n",
            "Epoch 61: val_loss did not improve from 0.07277\n",
            "6/6 [==============================] - 1s 105ms/step - loss: 0.0028 - accuracy: 1.0000 - val_loss: 0.1866 - val_accuracy: 0.9583\n",
            "Epoch 62/100\n",
            "6/6 [==============================] - ETA: 0s - loss: 0.0028 - accuracy: 1.0000\n",
            "Epoch 62: val_loss did not improve from 0.07277\n",
            "6/6 [==============================] - 1s 113ms/step - loss: 0.0028 - accuracy: 1.0000 - val_loss: 0.1884 - val_accuracy: 0.9583\n",
            "Epoch 63/100\n",
            "6/6 [==============================] - ETA: 0s - loss: 0.0027 - accuracy: 1.0000\n",
            "Epoch 63: val_loss did not improve from 0.07277\n",
            "6/6 [==============================] - 1s 109ms/step - loss: 0.0027 - accuracy: 1.0000 - val_loss: 0.1895 - val_accuracy: 0.9583\n",
            "Epoch 64/100\n",
            "6/6 [==============================] - ETA: 0s - loss: 0.0026 - accuracy: 1.0000\n",
            "Epoch 64: val_loss did not improve from 0.07277\n",
            "6/6 [==============================] - 1s 105ms/step - loss: 0.0026 - accuracy: 1.0000 - val_loss: 0.1898 - val_accuracy: 0.9583\n",
            "Epoch 65/100\n",
            "6/6 [==============================] - ETA: 0s - loss: 0.0026 - accuracy: 1.0000\n",
            "Epoch 65: val_loss did not improve from 0.07277\n",
            "6/6 [==============================] - 1s 111ms/step - loss: 0.0026 - accuracy: 1.0000 - val_loss: 0.1906 - val_accuracy: 0.9583\n",
            "Epoch 66/100\n",
            "6/6 [==============================] - ETA: 0s - loss: 0.0025 - accuracy: 1.0000\n",
            "Epoch 66: val_loss did not improve from 0.07277\n",
            "6/6 [==============================] - 1s 114ms/step - loss: 0.0025 - accuracy: 1.0000 - val_loss: 0.1918 - val_accuracy: 0.9583\n",
            "Epoch 67/100\n",
            "6/6 [==============================] - ETA: 0s - loss: 0.0024 - accuracy: 1.0000\n",
            "Epoch 67: val_loss did not improve from 0.07277\n",
            "6/6 [==============================] - 1s 105ms/step - loss: 0.0024 - accuracy: 1.0000 - val_loss: 0.1939 - val_accuracy: 0.9583\n",
            "Epoch 68/100\n",
            "6/6 [==============================] - ETA: 0s - loss: 0.0024 - accuracy: 1.0000\n",
            "Epoch 68: val_loss did not improve from 0.07277\n",
            "6/6 [==============================] - 1s 108ms/step - loss: 0.0024 - accuracy: 1.0000 - val_loss: 0.1946 - val_accuracy: 0.9583\n",
            "Epoch 69/100\n",
            "6/6 [==============================] - ETA: 0s - loss: 0.0023 - accuracy: 1.0000\n",
            "Epoch 69: val_loss did not improve from 0.07277\n",
            "6/6 [==============================] - 1s 103ms/step - loss: 0.0023 - accuracy: 1.0000 - val_loss: 0.1949 - val_accuracy: 0.9583\n",
            "Epoch 70/100\n",
            "6/6 [==============================] - ETA: 0s - loss: 0.0023 - accuracy: 1.0000\n",
            "Epoch 70: val_loss did not improve from 0.07277\n",
            "6/6 [==============================] - 1s 114ms/step - loss: 0.0023 - accuracy: 1.0000 - val_loss: 0.1947 - val_accuracy: 0.9583\n",
            "Epoch 71/100\n",
            "6/6 [==============================] - ETA: 0s - loss: 0.0022 - accuracy: 1.0000\n",
            "Epoch 71: val_loss did not improve from 0.07277\n",
            "6/6 [==============================] - 1s 110ms/step - loss: 0.0022 - accuracy: 1.0000 - val_loss: 0.1968 - val_accuracy: 0.9583\n",
            "Epoch 72/100\n",
            "6/6 [==============================] - ETA: 0s - loss: 0.0022 - accuracy: 1.0000\n",
            "Epoch 72: val_loss did not improve from 0.07277\n",
            "6/6 [==============================] - 1s 116ms/step - loss: 0.0022 - accuracy: 1.0000 - val_loss: 0.1966 - val_accuracy: 0.9583\n",
            "Epoch 73/100\n",
            "6/6 [==============================] - ETA: 0s - loss: 0.0021 - accuracy: 1.0000\n",
            "Epoch 73: val_loss did not improve from 0.07277\n",
            "6/6 [==============================] - 1s 122ms/step - loss: 0.0021 - accuracy: 1.0000 - val_loss: 0.1974 - val_accuracy: 0.9583\n",
            "Epoch 74/100\n",
            "6/6 [==============================] - ETA: 0s - loss: 0.0021 - accuracy: 1.0000\n",
            "Epoch 74: val_loss did not improve from 0.07277\n",
            "6/6 [==============================] - 1s 108ms/step - loss: 0.0021 - accuracy: 1.0000 - val_loss: 0.1981 - val_accuracy: 0.9583\n",
            "Epoch 75/100\n",
            "6/6 [==============================] - ETA: 0s - loss: 0.0020 - accuracy: 1.0000\n",
            "Epoch 75: val_loss did not improve from 0.07277\n",
            "6/6 [==============================] - 1s 103ms/step - loss: 0.0020 - accuracy: 1.0000 - val_loss: 0.1979 - val_accuracy: 0.9583\n",
            "Epoch 76/100\n",
            "6/6 [==============================] - ETA: 0s - loss: 0.0020 - accuracy: 1.0000\n",
            "Epoch 76: val_loss did not improve from 0.07277\n",
            "6/6 [==============================] - 1s 109ms/step - loss: 0.0020 - accuracy: 1.0000 - val_loss: 0.1974 - val_accuracy: 0.9583\n",
            "Epoch 77/100\n",
            "6/6 [==============================] - ETA: 0s - loss: 0.0019 - accuracy: 1.0000\n",
            "Epoch 77: val_loss did not improve from 0.07277\n",
            "6/6 [==============================] - 1s 105ms/step - loss: 0.0019 - accuracy: 1.0000 - val_loss: 0.1982 - val_accuracy: 0.9583\n",
            "Epoch 78/100\n",
            "6/6 [==============================] - ETA: 0s - loss: 0.0019 - accuracy: 1.0000\n",
            "Epoch 78: val_loss did not improve from 0.07277\n",
            "6/6 [==============================] - 1s 102ms/step - loss: 0.0019 - accuracy: 1.0000 - val_loss: 0.1988 - val_accuracy: 0.9583\n",
            "Epoch 79/100\n",
            "6/6 [==============================] - ETA: 0s - loss: 0.0019 - accuracy: 1.0000\n",
            "Epoch 79: val_loss did not improve from 0.07277\n",
            "6/6 [==============================] - 1s 113ms/step - loss: 0.0019 - accuracy: 1.0000 - val_loss: 0.2022 - val_accuracy: 0.9583\n",
            "Epoch 80/100\n",
            "6/6 [==============================] - ETA: 0s - loss: 0.0018 - accuracy: 1.0000\n",
            "Epoch 80: val_loss did not improve from 0.07277\n",
            "6/6 [==============================] - 1s 112ms/step - loss: 0.0018 - accuracy: 1.0000 - val_loss: 0.2037 - val_accuracy: 0.9583\n",
            "Epoch 81/100\n",
            "6/6 [==============================] - ETA: 0s - loss: 0.0018 - accuracy: 1.0000\n",
            "Epoch 81: val_loss did not improve from 0.07277\n",
            "6/6 [==============================] - 1s 108ms/step - loss: 0.0018 - accuracy: 1.0000 - val_loss: 0.2045 - val_accuracy: 0.9583\n",
            "Epoch 82/100\n",
            "6/6 [==============================] - ETA: 0s - loss: 0.0017 - accuracy: 1.0000\n",
            "Epoch 82: val_loss did not improve from 0.07277\n",
            "6/6 [==============================] - 1s 111ms/step - loss: 0.0017 - accuracy: 1.0000 - val_loss: 0.2047 - val_accuracy: 0.9583\n",
            "Epoch 83/100\n",
            "6/6 [==============================] - ETA: 0s - loss: 0.0017 - accuracy: 1.0000\n",
            "Epoch 83: val_loss did not improve from 0.07277\n",
            "6/6 [==============================] - 1s 106ms/step - loss: 0.0017 - accuracy: 1.0000 - val_loss: 0.2057 - val_accuracy: 0.9583\n",
            "Epoch 84/100\n",
            "6/6 [==============================] - ETA: 0s - loss: 0.0017 - accuracy: 1.0000\n",
            "Epoch 84: val_loss did not improve from 0.07277\n",
            "6/6 [==============================] - 1s 109ms/step - loss: 0.0017 - accuracy: 1.0000 - val_loss: 0.2066 - val_accuracy: 0.9583\n",
            "Epoch 85/100\n",
            "6/6 [==============================] - ETA: 0s - loss: 0.0016 - accuracy: 1.0000\n",
            "Epoch 85: val_loss did not improve from 0.07277\n",
            "6/6 [==============================] - 1s 109ms/step - loss: 0.0016 - accuracy: 1.0000 - val_loss: 0.2068 - val_accuracy: 0.9583\n",
            "Epoch 86/100\n",
            "6/6 [==============================] - ETA: 0s - loss: 0.0016 - accuracy: 1.0000\n",
            "Epoch 86: val_loss did not improve from 0.07277\n",
            "6/6 [==============================] - 1s 108ms/step - loss: 0.0016 - accuracy: 1.0000 - val_loss: 0.2075 - val_accuracy: 0.9583\n",
            "Epoch 87/100\n",
            "6/6 [==============================] - ETA: 0s - loss: 0.0015 - accuracy: 1.0000\n",
            "Epoch 87: val_loss did not improve from 0.07277\n",
            "6/6 [==============================] - 1s 113ms/step - loss: 0.0015 - accuracy: 1.0000 - val_loss: 0.2114 - val_accuracy: 0.9583\n",
            "Epoch 88/100\n",
            "6/6 [==============================] - ETA: 0s - loss: 0.0015 - accuracy: 1.0000\n",
            "Epoch 88: val_loss did not improve from 0.07277\n",
            "6/6 [==============================] - 1s 112ms/step - loss: 0.0015 - accuracy: 1.0000 - val_loss: 0.2159 - val_accuracy: 0.9583\n",
            "Epoch 89/100\n",
            "6/6 [==============================] - ETA: 0s - loss: 0.0015 - accuracy: 1.0000\n",
            "Epoch 89: val_loss did not improve from 0.07277\n",
            "6/6 [==============================] - 1s 107ms/step - loss: 0.0015 - accuracy: 1.0000 - val_loss: 0.2190 - val_accuracy: 0.9583\n",
            "Epoch 90/100\n",
            "6/6 [==============================] - ETA: 0s - loss: 0.0014 - accuracy: 1.0000\n",
            "Epoch 90: val_loss did not improve from 0.07277\n",
            "6/6 [==============================] - 1s 123ms/step - loss: 0.0014 - accuracy: 1.0000 - val_loss: 0.2220 - val_accuracy: 0.9583\n",
            "Epoch 91/100\n",
            "6/6 [==============================] - ETA: 0s - loss: 0.0014 - accuracy: 1.0000\n",
            "Epoch 91: val_loss did not improve from 0.07277\n",
            "6/6 [==============================] - 1s 103ms/step - loss: 0.0014 - accuracy: 1.0000 - val_loss: 0.2238 - val_accuracy: 0.9583\n",
            "Epoch 92/100\n",
            "6/6 [==============================] - ETA: 0s - loss: 0.0013 - accuracy: 1.0000\n",
            "Epoch 92: val_loss did not improve from 0.07277\n",
            "6/6 [==============================] - 1s 107ms/step - loss: 0.0013 - accuracy: 1.0000 - val_loss: 0.2256 - val_accuracy: 0.9583\n",
            "Epoch 93/100\n",
            "6/6 [==============================] - ETA: 0s - loss: 0.0013 - accuracy: 1.0000\n",
            "Epoch 93: val_loss did not improve from 0.07277\n",
            "6/6 [==============================] - 1s 109ms/step - loss: 0.0013 - accuracy: 1.0000 - val_loss: 0.2281 - val_accuracy: 0.9583\n",
            "Epoch 94/100\n",
            "6/6 [==============================] - ETA: 0s - loss: 0.0013 - accuracy: 1.0000\n",
            "Epoch 94: val_loss did not improve from 0.07277\n",
            "6/6 [==============================] - 1s 109ms/step - loss: 0.0013 - accuracy: 1.0000 - val_loss: 0.2309 - val_accuracy: 0.9583\n",
            "Epoch 95/100\n",
            "6/6 [==============================] - ETA: 0s - loss: 0.0012 - accuracy: 1.0000\n",
            "Epoch 95: val_loss did not improve from 0.07277\n",
            "6/6 [==============================] - 1s 108ms/step - loss: 0.0012 - accuracy: 1.0000 - val_loss: 0.2356 - val_accuracy: 0.9583\n",
            "Epoch 96/100\n",
            "6/6 [==============================] - ETA: 0s - loss: 0.0012 - accuracy: 1.0000\n",
            "Epoch 96: val_loss did not improve from 0.07277\n",
            "6/6 [==============================] - 1s 243ms/step - loss: 0.0012 - accuracy: 1.0000 - val_loss: 0.2411 - val_accuracy: 0.9583\n",
            "Epoch 97/100\n",
            "6/6 [==============================] - ETA: 0s - loss: 0.0012 - accuracy: 1.0000\n",
            "Epoch 97: val_loss did not improve from 0.07277\n",
            "6/6 [==============================] - 1s 232ms/step - loss: 0.0012 - accuracy: 1.0000 - val_loss: 0.2444 - val_accuracy: 0.9583\n",
            "Epoch 98/100\n",
            "6/6 [==============================] - ETA: 0s - loss: 0.0011 - accuracy: 1.0000    \n",
            "Epoch 98: val_loss did not improve from 0.07277\n",
            "6/6 [==============================] - 1s 228ms/step - loss: 0.0011 - accuracy: 1.0000 - val_loss: 0.2483 - val_accuracy: 0.9375\n",
            "Epoch 99/100\n",
            "6/6 [==============================] - ETA: 0s - loss: 0.0011 - accuracy: 1.0000\n",
            "Epoch 99: val_loss did not improve from 0.07277\n",
            "6/6 [==============================] - 1s 106ms/step - loss: 0.0011 - accuracy: 1.0000 - val_loss: 0.2529 - val_accuracy: 0.9375\n",
            "Epoch 100/100\n",
            "6/6 [==============================] - ETA: 0s - loss: 0.0010 - accuracy: 1.0000\n",
            "Epoch 100: val_loss did not improve from 0.07277\n",
            "6/6 [==============================] - 1s 106ms/step - loss: 0.0010 - accuracy: 1.0000 - val_loss: 0.2636 - val_accuracy: 0.9167\n"
          ]
        }
      ]
    },
    {
      "cell_type": "markdown",
      "source": [
        "# Avaliação do modelo"
      ],
      "metadata": {
        "id": "9zOTYZqOIgGr"
      }
    },
    {
      "cell_type": "code",
      "source": [
        "model.evaluate(X_test,y_test, verbose=0)"
      ],
      "metadata": {
        "colab": {
          "base_uri": "https://localhost:8080/"
        },
        "id": "YZw52uajIl_7",
        "outputId": "5114b3d4-26ca-4419-a3af-053bb52286e8"
      },
      "execution_count": null,
      "outputs": [
        {
          "output_type": "execute_result",
          "data": {
            "text/plain": [
              "[0.2635566294193268, 0.9166666865348816]"
            ]
          },
          "metadata": {},
          "execution_count": 29
        }
      ]
    },
    {
      "cell_type": "code",
      "source": [
        "plt.plot(model_history.history['accuracy'])\n",
        "plt.plot(model_history.history['val_accuracy'])\n",
        "plt.title('model accuracy')\n",
        "plt.ylabel('accuracy')\n",
        "plt.xlabel('epoch')\n",
        "plt.legend(['train', 'test'], loc='upper left')\n",
        "plt.show()\n",
        "\n",
        "plt.plot(model_history.history['loss'])\n",
        "plt.plot(model_history.history['val_loss'])\n",
        "plt.title('model loss')\n",
        "plt.ylabel('loss')\n",
        "plt.xlabel('epoch')\n",
        "plt.legend(['train', 'test'], loc='upper left')\n",
        "plt.show()"
      ],
      "metadata": {
        "colab": {
          "base_uri": "https://localhost:8080/",
          "height": 573
        },
        "id": "hCToTsCXIzb6",
        "outputId": "6cf6fe54-6f67-4bb9-f23b-385e887deea8"
      },
      "execution_count": null,
      "outputs": [
        {
          "output_type": "display_data",
          "data": {
            "text/plain": [
              "<Figure size 432x288 with 1 Axes>"
            ],
            "image/png": "[encoded data removed]"
          },
          "metadata": {
            "needs_background": "light"
          }
        },
        {
          "output_type": "display_data",
          "data": {
            "text/plain": [
              "<Figure size 432x288 with 1 Axes>"
            ],
            "image/png": "[encoded data removed]"
          },
          "metadata": {
            "needs_background": "light"
          }
        }
      ]
    },
    {
      "cell_type": "code",
      "source": [
        "predictions = model.predict(X_test)\n",
        "predictions = predictions.argmax(axis=1)\n",
        "predictions"
      ],
      "metadata": {
        "id": "v2jQ3an9I4C6",
        "colab": {
          "base_uri": "https://localhost:8080/"
        },
        "outputId": "d9c9cd44-a558-4f05-f524-6c5432794f6a"
      },
      "execution_count": null,
      "outputs": [
        {
          "output_type": "stream",
          "name": "stdout",
          "text": [
            "22/22 [==============================] - 0s 6ms/step\n"
          ]
        },
        {
          "output_type": "execute_result",
          "data": {
            "text/plain": [
              "array([0, 1, 0, 1, 1, 0, 0, 0, 0, 1, 0, 1, 0, 0, 0, 0, 0, 1, 1, 1, 0, 0,\n",
              "       0, 1, 1, 1, 0, 1, 1, 0, 0, 0, 1, 1, 0, 0, 0, 0, 1, 1, 0, 1, 0, 1,\n",
              "       1, 1, 0, 0, 0, 1, 0, 0, 1, 0, 0, 1, 1, 1, 0, 1, 0, 0, 1, 0, 0, 1,\n",
              "       1, 1, 1, 1, 1, 0, 1, 1, 1, 0, 1, 0, 0, 1, 0, 0, 1, 1, 1, 1, 0, 0,\n",
              "       1, 1, 0, 1, 1, 1, 1, 0, 1, 0, 0, 1, 0, 1, 1, 0, 0, 1, 0, 1, 0, 0,\n",
              "       1, 1, 1, 0, 1, 1, 1, 1, 1, 1, 0, 0, 1, 0, 1, 1, 1, 0, 1, 1, 0, 0,\n",
              "       1, 1, 1, 0, 1, 0, 1, 1, 1, 0, 1, 0, 1, 1, 0, 0, 1, 1, 1, 0, 1, 0,\n",
              "       1, 0, 0, 0, 0, 1, 0, 0, 0, 0, 1, 1, 1, 1, 1, 1, 1, 0, 0, 0, 1, 1,\n",
              "       0, 0, 0, 1, 0, 0, 0, 0, 1, 0, 0, 0, 0, 0, 0, 1, 1, 1, 1, 1, 1, 1,\n",
              "       0, 0, 1, 0, 0, 0, 1, 1, 0, 1, 0, 1, 1, 0, 0, 1, 1, 1, 0, 1, 1, 1,\n",
              "       1, 1, 1, 0, 1, 0, 1, 0, 0, 1, 1, 0, 0, 0, 0, 0, 1, 0, 0, 0, 1, 0,\n",
              "       1, 1, 0, 0, 0, 1, 1, 1, 1, 0, 0, 1, 0, 0, 0, 0, 1, 0, 0, 0, 0, 0,\n",
              "       0, 1, 1, 1, 0, 1, 1, 1, 1, 0, 0, 1, 0, 1, 1, 0, 0, 0, 1, 1, 1, 1,\n",
              "       1, 1, 1, 1, 1, 0, 1, 0, 0, 1, 1, 1, 1, 1, 0, 0, 0, 0, 1, 0, 1, 1,\n",
              "       0, 0, 1, 0, 0, 0, 1, 0, 0, 0, 1, 0, 1, 0, 0, 0, 1, 1, 1, 1, 1, 1,\n",
              "       0, 0, 0, 0, 0, 1, 1, 0, 0, 0, 1, 1, 1, 0, 0, 0, 1, 1, 1, 1, 1, 0,\n",
              "       1, 1, 1, 1, 1, 1, 1, 0, 1, 1, 0, 0, 1, 1, 1, 0, 1, 0, 0, 0, 0, 0,\n",
              "       1, 0, 0, 0, 1, 0, 1, 0, 1, 1, 0, 0, 1, 1, 0, 0, 1, 1, 1, 0, 1, 1,\n",
              "       1, 1, 1, 0, 1, 1, 1, 0, 0, 1, 1, 0, 1, 0, 1, 1, 1, 1, 0, 1, 0, 0,\n",
              "       0, 0, 1, 1, 0, 0, 1, 1, 0, 0, 1, 1, 1, 1, 0, 1, 1, 1, 1, 1, 0, 0,\n",
              "       1, 1, 1, 0, 1, 0, 1, 1, 1, 0, 0, 1, 1, 0, 1, 0, 1, 0, 1, 0, 1, 1,\n",
              "       0, 1, 0, 0, 0, 1, 0, 0, 1, 1, 1, 1, 0, 0, 1, 0, 1, 0, 1, 1, 1, 1,\n",
              "       0, 0, 1, 1, 1, 0, 1, 0, 0, 0, 0, 0, 0, 0, 0, 1, 0, 0, 1, 0, 1, 0,\n",
              "       1, 1, 1, 1, 1, 0, 1, 1, 1, 0, 0, 1, 1, 1, 0, 1, 1, 0, 0, 1, 1, 0,\n",
              "       1, 1, 0, 0, 0, 1, 1, 0, 0, 1, 0, 1, 1, 1, 0, 1, 0, 1, 1, 0, 0, 0,\n",
              "       0, 0, 1, 0, 1, 1, 1, 0, 1, 0, 1, 1, 1, 0, 0, 0, 1, 0, 0, 1, 0, 1,\n",
              "       0, 0, 0, 0, 1, 1, 1, 0, 1, 1, 1, 0, 1, 0, 1, 1, 0, 1, 0, 0, 1, 0,\n",
              "       0, 1, 1, 0, 0, 0, 1, 0, 1, 1, 0, 1, 1, 1, 1, 1, 0, 1, 1, 0, 1, 0,\n",
              "       1, 0, 0, 1, 0, 0, 1, 1, 1, 1, 0, 1, 1, 1, 1, 0, 1, 0, 1, 1, 1, 1,\n",
              "       1, 0, 1, 0, 0, 0, 1, 0, 0, 1, 1, 0, 1, 1, 1, 0, 0, 1, 1, 1, 0, 1,\n",
              "       1, 1, 0, 1, 0, 0, 0, 1, 1, 0, 1, 1, 0, 1, 0, 1, 0, 1, 0, 1, 1, 0,\n",
              "       0, 1, 0, 0, 1, 1, 0, 1, 0, 0, 0, 1, 1, 1, 0, 0, 1])"
            ]
          },
          "metadata": {},
          "execution_count": 42
        }
      ]
    },
    {
      "cell_type": "code",
      "source": [
        "predictions = predictions.astype(int).flatten()\n",
        "predictions = (labelencoder.inverse_transform((predictions)))\n",
        "predictions = pd.DataFrame({'Classes Previstas': predictions})\n",
        "predictions"
      ],
      "metadata": {
        "id": "UVTLfCeyJAUM",
        "colab": {
          "base_uri": "https://localhost:8080/",
          "height": 423
        },
        "outputId": "0dbf6326-d4bd-4ead-d1f4-4de36225e4dd"
      },
      "execution_count": null,
      "outputs": [
        {
          "output_type": "execute_result",
          "data": {
            "text/plain": [
              "    Classes Previstas\n",
              "0            estresse\n",
              "1              neutra\n",
              "2            estresse\n",
              "3              neutra\n",
              "4              neutra\n",
              "..                ...\n",
              "694            neutra\n",
              "695            neutra\n",
              "696          estresse\n",
              "697          estresse\n",
              "698            neutra\n",
              "\n",
              "[699 rows x 1 columns]"
            ],
            "text/html": [
              "\n",
              "  <div id=\"df-aff01ace-ff3d-4178-ba46-60967fe220ec\">\n",
              "    <div class=\"colab-df-container\">\n",
              "      <div>\n",
              "<style scoped>\n",
              "    .dataframe tbody tr th:only-of-type {\n",
              "        vertical-align: middle;\n",
              "    }\n",
              "\n",
              "    .dataframe tbody tr th {\n",
              "        vertical-align: top;\n",
              "    }\n",
              "\n",
              "    .dataframe thead th {\n",
              "        text-align: right;\n",
              "    }\n",
              "</style>\n",
              "<table border=\"1\" class=\"dataframe\">\n",
              "  <thead>\n",
              "    <tr style=\"text-align: right;\">\n",
              "      <th></th>\n",
              "      <th>Classes Previstas</th>\n",
              "    </tr>\n",
              "  </thead>\n",
              "  <tbody>\n",
              "    <tr>\n",
              "      <th>0</th>\n",
              "      <td>estresse</td>\n",
              "    </tr>\n",
              "    <tr>\n",
              "      <th>1</th>\n",
              "      <td>neutra</td>\n",
              "    </tr>\n",
              "    <tr>\n",
              "      <th>2</th>\n",
              "      <td>estresse</td>\n",
              "    </tr>\n",
              "    <tr>\n",
              "      <th>3</th>\n",
              "      <td>neutra</td>\n",
              "    </tr>\n",
              "    <tr>\n",
              "      <th>4</th>\n",
              "      <td>neutra</td>\n",
              "    </tr>\n",
              "    <tr>\n",
              "      <th>...</th>\n",
              "      <td>...</td>\n",
              "    </tr>\n",
              "    <tr>\n",
              "      <th>694</th>\n",
              "      <td>neutra</td>\n",
              "    </tr>\n",
              "    <tr>\n",
              "      <th>695</th>\n",
              "      <td>neutra</td>\n",
              "    </tr>\n",
              "    <tr>\n",
              "      <th>696</th>\n",
              "      <td>estresse</td>\n",
              "    </tr>\n",
              "    <tr>\n",
              "      <th>697</th>\n",
              "      <td>estresse</td>\n",
              "    </tr>\n",
              "    <tr>\n",
              "      <th>698</th>\n",
              "      <td>neutra</td>\n",
              "    </tr>\n",
              "  </tbody>\n",
              "</table>\n",
              "<p>699 rows × 1 columns</p>\n",
              "</div>\n",
              "      <button class=\"colab-df-convert\" onclick=\"convertToInteractive('df-aff01ace-ff3d-4178-ba46-60967fe220ec')\"\n",
              "              title=\"Convert this dataframe to an interactive table.\"\n",
              "              style=\"display:none;\">\n",
              "        \n",
              "  <svg xmlns=\"http://www.w3.org/2000/svg\" height=\"24px\"viewBox=\"0 0 24 24\"\n",
              "       width=\"24px\">\n",
              "    <path d=\"M0 0h24v24H0V0z\" fill=\"none\"/>\n",
              "    <path d=\"M18.56 5.44l.94 2.06.94-2.06 2.06-.94-2.06-.94-.94-2.06-.94 2.06-2.06.94zm-11 1L8.5 8.5l.94-2.06 2.06-.94-2.06-.94L8.5 2.5l-.94 2.06-2.06.94zm10 10l.94 2.06.94-2.06 2.06-.94-2.06-.94-.94-2.06-.94 2.06-2.06.94z\"/><path d=\"M17.41 7.96l-1.37-1.37c-.4-.4-.92-.59-1.43-.59-.52 0-1.04.2-1.43.59L10.3 9.45l-7.72 7.72c-.78.78-.78 2.05 0 2.83L4 21.41c.39.39.9.59 1.41.59.51 0 1.02-.2 1.41-.59l7.78-7.78 2.81-2.81c.8-.78.8-2.07 0-2.86zM5.41 20L4 18.59l7.72-7.72 1.47 1.35L5.41 20z\"/>\n",
              "  </svg>\n",
              "      </button>\n",
              "      \n",
              "  <style>\n",
              "    .colab-df-container {\n",
              "      display:flex;\n",
              "      flex-wrap:wrap;\n",
              "      gap: 12px;\n",
              "    }\n",
              "\n",
              "    .colab-df-convert {\n",
              "      background-color: #E8F0FE;\n",
              "      border: none;\n",
              "      border-radius: 50%;\n",
              "      cursor: pointer;\n",
              "      display: none;\n",
              "      fill: #1967D2;\n",
              "      height: 32px;\n",
              "      padding: 0 0 0 0;\n",
              "      width: 32px;\n",
              "    }\n",
              "\n",
              "    .colab-df-convert:hover {\n",
              "      background-color: #E2EBFA;\n",
              "      box-shadow: 0px 1px 2px rgba(60, 64, 67, 0.3), 0px 1px 3px 1px rgba(60, 64, 67, 0.15);\n",
              "      fill: #174EA6;\n",
              "    }\n",
              "\n",
              "    [theme=dark] .colab-df-convert {\n",
              "      background-color: #3B4455;\n",
              "      fill: #D2E3FC;\n",
              "    }\n",
              "\n",
              "    [theme=dark] .colab-df-convert:hover {\n",
              "      background-color: #434B5C;\n",
              "      box-shadow: 0px 1px 3px 1px rgba(0, 0, 0, 0.15);\n",
              "      filter: drop-shadow(0px 1px 2px rgba(0, 0, 0, 0.3));\n",
              "      fill: #FFFFFF;\n",
              "    }\n",
              "  </style>\n",
              "\n",
              "      <script>\n",
              "        const buttonEl =\n",
              "          document.querySelector('#df-aff01ace-ff3d-4178-ba46-60967fe220ec button.colab-df-convert');\n",
              "        buttonEl.style.display =\n",
              "          google.colab.kernel.accessAllowed ? 'block' : 'none';\n",
              "\n",
              "        async function convertToInteractive(key) {\n",
              "          const element = document.querySelector('#df-aff01ace-ff3d-4178-ba46-60967fe220ec');\n",
              "          const dataTable =\n",
              "            await google.colab.kernel.invokeFunction('convertToInteractive',\n",
              "                                                     [key], {});\n",
              "          if (!dataTable) return;\n",
              "\n",
              "          const docLinkHtml = 'Like what you see? Visit the ' +\n",
              "            '<a target=\"_blank\" href=https://colab.research.google.com/notebooks/data_table.ipynb>data table notebook</a>'\n",
              "            + ' to learn more about interactive tables.';\n",
              "          element.innerHTML = '';\n",
              "          dataTable['output_type'] = 'display_data';\n",
              "          await google.colab.output.renderOutput(dataTable, element);\n",
              "          const docLink = document.createElement('div');\n",
              "          docLink.innerHTML = docLinkHtml;\n",
              "          element.appendChild(docLink);\n",
              "        }\n",
              "      </script>\n",
              "    </div>\n",
              "  </div>\n",
              "  "
            ]
          },
          "metadata": {},
          "execution_count": 43
        }
      ]
    },
    {
      "cell_type": "code",
      "source": [
        "atual = y_test.argmax(axis=1)\n",
        "atual = atual.astype(int).flatten()\n",
        "atual = (labelencoder.inverse_transform((atual)))\n",
        "atual = pd.DataFrame({'Classes Reais': atual})\n",
        "atual"
      ],
      "metadata": {
        "id": "-S38SK_tJU_L",
        "colab": {
          "base_uri": "https://localhost:8080/",
          "height": 423
        },
        "outputId": "266355b4-35d4-49b3-9555-f0af14528ec7"
      },
      "execution_count": null,
      "outputs": [
        {
          "output_type": "execute_result",
          "data": {
            "text/plain": [
              "    Classes Reais\n",
              "0        estresse\n",
              "1          neutra\n",
              "2        estresse\n",
              "3          neutra\n",
              "4        estresse\n",
              "..            ...\n",
              "694        neutra\n",
              "695        neutra\n",
              "696      estresse\n",
              "697      estresse\n",
              "698        neutra\n",
              "\n",
              "[699 rows x 1 columns]"
            ],
            "text/html": [
              "\n",
              "  <div id=\"df-981a1432-284e-44db-a42d-242bc7c44aac\">\n",
              "    <div class=\"colab-df-container\">\n",
              "      <div>\n",
              "<style scoped>\n",
              "    .dataframe tbody tr th:only-of-type {\n",
              "        vertical-align: middle;\n",
              "    }\n",
              "\n",
              "    .dataframe tbody tr th {\n",
              "        vertical-align: top;\n",
              "    }\n",
              "\n",
              "    .dataframe thead th {\n",
              "        text-align: right;\n",
              "    }\n",
              "</style>\n",
              "<table border=\"1\" class=\"dataframe\">\n",
              "  <thead>\n",
              "    <tr style=\"text-align: right;\">\n",
              "      <th></th>\n",
              "      <th>Classes Reais</th>\n",
              "    </tr>\n",
              "  </thead>\n",
              "  <tbody>\n",
              "    <tr>\n",
              "      <th>0</th>\n",
              "      <td>estresse</td>\n",
              "    </tr>\n",
              "    <tr>\n",
              "      <th>1</th>\n",
              "      <td>neutra</td>\n",
              "    </tr>\n",
              "    <tr>\n",
              "      <th>2</th>\n",
              "      <td>estresse</td>\n",
              "    </tr>\n",
              "    <tr>\n",
              "      <th>3</th>\n",
              "      <td>neutra</td>\n",
              "    </tr>\n",
              "    <tr>\n",
              "      <th>4</th>\n",
              "      <td>estresse</td>\n",
              "    </tr>\n",
              "    <tr>\n",
              "      <th>...</th>\n",
              "      <td>...</td>\n",
              "    </tr>\n",
              "    <tr>\n",
              "      <th>694</th>\n",
              "      <td>neutra</td>\n",
              "    </tr>\n",
              "    <tr>\n",
              "      <th>695</th>\n",
              "      <td>neutra</td>\n",
              "    </tr>\n",
              "    <tr>\n",
              "      <th>696</th>\n",
              "      <td>estresse</td>\n",
              "    </tr>\n",
              "    <tr>\n",
              "      <th>697</th>\n",
              "      <td>estresse</td>\n",
              "    </tr>\n",
              "    <tr>\n",
              "      <th>698</th>\n",
              "      <td>neutra</td>\n",
              "    </tr>\n",
              "  </tbody>\n",
              "</table>\n",
              "<p>699 rows × 1 columns</p>\n",
              "</div>\n",
              "      <button class=\"colab-df-convert\" onclick=\"convertToInteractive('df-981a1432-284e-44db-a42d-242bc7c44aac')\"\n",
              "              title=\"Convert this dataframe to an interactive table.\"\n",
              "              style=\"display:none;\">\n",
              "        \n",
              "  <svg xmlns=\"http://www.w3.org/2000/svg\" height=\"24px\"viewBox=\"0 0 24 24\"\n",
              "       width=\"24px\">\n",
              "    <path d=\"M0 0h24v24H0V0z\" fill=\"none\"/>\n",
              "    <path d=\"M18.56 5.44l.94 2.06.94-2.06 2.06-.94-2.06-.94-.94-2.06-.94 2.06-2.06.94zm-11 1L8.5 8.5l.94-2.06 2.06-.94-2.06-.94L8.5 2.5l-.94 2.06-2.06.94zm10 10l.94 2.06.94-2.06 2.06-.94-2.06-.94-.94-2.06-.94 2.06-2.06.94z\"/><path d=\"M17.41 7.96l-1.37-1.37c-.4-.4-.92-.59-1.43-.59-.52 0-1.04.2-1.43.59L10.3 9.45l-7.72 7.72c-.78.78-.78 2.05 0 2.83L4 21.41c.39.39.9.59 1.41.59.51 0 1.02-.2 1.41-.59l7.78-7.78 2.81-2.81c.8-.78.8-2.07 0-2.86zM5.41 20L4 18.59l7.72-7.72 1.47 1.35L5.41 20z\"/>\n",
              "  </svg>\n",
              "      </button>\n",
              "      \n",
              "  <style>\n",
              "    .colab-df-container {\n",
              "      display:flex;\n",
              "      flex-wrap:wrap;\n",
              "      gap: 12px;\n",
              "    }\n",
              "\n",
              "    .colab-df-convert {\n",
              "      background-color: #E8F0FE;\n",
              "      border: none;\n",
              "      border-radius: 50%;\n",
              "      cursor: pointer;\n",
              "      display: none;\n",
              "      fill: #1967D2;\n",
              "      height: 32px;\n",
              "      padding: 0 0 0 0;\n",
              "      width: 32px;\n",
              "    }\n",
              "\n",
              "    .colab-df-convert:hover {\n",
              "      background-color: #E2EBFA;\n",
              "      box-shadow: 0px 1px 2px rgba(60, 64, 67, 0.3), 0px 1px 3px 1px rgba(60, 64, 67, 0.15);\n",
              "      fill: #174EA6;\n",
              "    }\n",
              "\n",
              "    [theme=dark] .colab-df-convert {\n",
              "      background-color: #3B4455;\n",
              "      fill: #D2E3FC;\n",
              "    }\n",
              "\n",
              "    [theme=dark] .colab-df-convert:hover {\n",
              "      background-color: #434B5C;\n",
              "      box-shadow: 0px 1px 3px 1px rgba(0, 0, 0, 0.15);\n",
              "      filter: drop-shadow(0px 1px 2px rgba(0, 0, 0, 0.3));\n",
              "      fill: #FFFFFF;\n",
              "    }\n",
              "  </style>\n",
              "\n",
              "      <script>\n",
              "        const buttonEl =\n",
              "          document.querySelector('#df-981a1432-284e-44db-a42d-242bc7c44aac button.colab-df-convert');\n",
              "        buttonEl.style.display =\n",
              "          google.colab.kernel.accessAllowed ? 'block' : 'none';\n",
              "\n",
              "        async function convertToInteractive(key) {\n",
              "          const element = document.querySelector('#df-981a1432-284e-44db-a42d-242bc7c44aac');\n",
              "          const dataTable =\n",
              "            await google.colab.kernel.invokeFunction('convertToInteractive',\n",
              "                                                     [key], {});\n",
              "          if (!dataTable) return;\n",
              "\n",
              "          const docLinkHtml = 'Like what you see? Visit the ' +\n",
              "            '<a target=\"_blank\" href=https://colab.research.google.com/notebooks/data_table.ipynb>data table notebook</a>'\n",
              "            + ' to learn more about interactive tables.';\n",
              "          element.innerHTML = '';\n",
              "          dataTable['output_type'] = 'display_data';\n",
              "          await google.colab.output.renderOutput(dataTable, element);\n",
              "          const docLink = document.createElement('div');\n",
              "          docLink.innerHTML = docLinkHtml;\n",
              "          element.appendChild(docLink);\n",
              "        }\n",
              "      </script>\n",
              "    </div>\n",
              "  </div>\n",
              "  "
            ]
          },
          "metadata": {},
          "execution_count": 44
        }
      ]
    },
    {
      "cell_type": "code",
      "source": [
        "finaldf = atual.join(predictions)\n",
        "finaldf[0:20]"
      ],
      "metadata": {
        "id": "Jp4fVqLJJe-j",
        "colab": {
          "base_uri": "https://localhost:8080/",
          "height": 676
        },
        "outputId": "686cb096-b3ce-492b-8240-6a0419bcb6d4"
      },
      "execution_count": null,
      "outputs": [
        {
          "output_type": "execute_result",
          "data": {
            "text/plain": [
              "   Classes Reais Classes Previstas\n",
              "0       estresse          estresse\n",
              "1         neutra            neutra\n",
              "2       estresse          estresse\n",
              "3         neutra          estresse\n",
              "4       estresse            neutra\n",
              "5       estresse          estresse\n",
              "6       estresse          estresse\n",
              "7       estresse          estresse\n",
              "8       estresse          estresse\n",
              "9         neutra            neutra\n",
              "10      estresse          estresse\n",
              "11        neutra            neutra\n",
              "12      estresse          estresse\n",
              "13      estresse          estresse\n",
              "14      estresse          estresse\n",
              "15      estresse          estresse\n",
              "16      estresse          estresse\n",
              "17        neutra            neutra\n",
              "18        neutra            neutra\n",
              "19        neutra            neutra"
            ],
            "text/html": [
              "\n",
              "  <div id=\"df-01888bd7-a2a6-4f56-b09e-be65472d1a7b\">\n",
              "    <div class=\"colab-df-container\">\n",
              "      <div>\n",
              "<style scoped>\n",
              "    .dataframe tbody tr th:only-of-type {\n",
              "        vertical-align: middle;\n",
              "    }\n",
              "\n",
              "    .dataframe tbody tr th {\n",
              "        vertical-align: top;\n",
              "    }\n",
              "\n",
              "    .dataframe thead th {\n",
              "        text-align: right;\n",
              "    }\n",
              "</style>\n",
              "<table border=\"1\" class=\"dataframe\">\n",
              "  <thead>\n",
              "    <tr style=\"text-align: right;\">\n",
              "      <th></th>\n",
              "      <th>Classes Reais</th>\n",
              "      <th>Classes Previstas</th>\n",
              "    </tr>\n",
              "  </thead>\n",
              "  <tbody>\n",
              "    <tr>\n",
              "      <th>0</th>\n",
              "      <td>estresse</td>\n",
              "      <td>estresse</td>\n",
              "    </tr>\n",
              "    <tr>\n",
              "      <th>1</th>\n",
              "      <td>neutra</td>\n",
              "      <td>neutra</td>\n",
              "    </tr>\n",
              "    <tr>\n",
              "      <th>2</th>\n",
              "      <td>estresse</td>\n",
              "      <td>estresse</td>\n",
              "    </tr>\n",
              "    <tr>\n",
              "      <th>3</th>\n",
              "      <td>neutra</td>\n",
              "      <td>estresse</td>\n",
              "    </tr>\n",
              "    <tr>\n",
              "      <th>4</th>\n",
              "      <td>estresse</td>\n",
              "      <td>neutra</td>\n",
              "    </tr>\n",
              "    <tr>\n",
              "      <th>5</th>\n",
              "      <td>estresse</td>\n",
              "      <td>estresse</td>\n",
              "    </tr>\n",
              "    <tr>\n",
              "      <th>6</th>\n",
              "      <td>estresse</td>\n",
              "      <td>estresse</td>\n",
              "    </tr>\n",
              "    <tr>\n",
              "      <th>7</th>\n",
              "      <td>estresse</td>\n",
              "      <td>estresse</td>\n",
              "    </tr>\n",
              "    <tr>\n",
              "      <th>8</th>\n",
              "      <td>estresse</td>\n",
              "      <td>estresse</td>\n",
              "    </tr>\n",
              "    <tr>\n",
              "      <th>9</th>\n",
              "      <td>neutra</td>\n",
              "      <td>neutra</td>\n",
              "    </tr>\n",
              "    <tr>\n",
              "      <th>10</th>\n",
              "      <td>estresse</td>\n",
              "      <td>estresse</td>\n",
              "    </tr>\n",
              "    <tr>\n",
              "      <th>11</th>\n",
              "      <td>neutra</td>\n",
              "      <td>neutra</td>\n",
              "    </tr>\n",
              "    <tr>\n",
              "      <th>12</th>\n",
              "      <td>estresse</td>\n",
              "      <td>estresse</td>\n",
              "    </tr>\n",
              "    <tr>\n",
              "      <th>13</th>\n",
              "      <td>estresse</td>\n",
              "      <td>estresse</td>\n",
              "    </tr>\n",
              "    <tr>\n",
              "      <th>14</th>\n",
              "      <td>estresse</td>\n",
              "      <td>estresse</td>\n",
              "    </tr>\n",
              "    <tr>\n",
              "      <th>15</th>\n",
              "      <td>estresse</td>\n",
              "      <td>estresse</td>\n",
              "    </tr>\n",
              "    <tr>\n",
              "      <th>16</th>\n",
              "      <td>estresse</td>\n",
              "      <td>estresse</td>\n",
              "    </tr>\n",
              "    <tr>\n",
              "      <th>17</th>\n",
              "      <td>neutra</td>\n",
              "      <td>neutra</td>\n",
              "    </tr>\n",
              "    <tr>\n",
              "      <th>18</th>\n",
              "      <td>neutra</td>\n",
              "      <td>neutra</td>\n",
              "    </tr>\n",
              "    <tr>\n",
              "      <th>19</th>\n",
              "      <td>neutra</td>\n",
              "      <td>neutra</td>\n",
              "    </tr>\n",
              "  </tbody>\n",
              "</table>\n",
              "</div>\n",
              "      <button class=\"colab-df-convert\" onclick=\"convertToInteractive('df-01888bd7-a2a6-4f56-b09e-be65472d1a7b')\"\n",
              "              title=\"Convert this dataframe to an interactive table.\"\n",
              "              style=\"display:none;\">\n",
              "        \n",
              "  <svg xmlns=\"http://www.w3.org/2000/svg\" height=\"24px\"viewBox=\"0 0 24 24\"\n",
              "       width=\"24px\">\n",
              "    <path d=\"M0 0h24v24H0V0z\" fill=\"none\"/>\n",
              "    <path d=\"M18.56 5.44l.94 2.06.94-2.06 2.06-.94-2.06-.94-.94-2.06-.94 2.06-2.06.94zm-11 1L8.5 8.5l.94-2.06 2.06-.94-2.06-.94L8.5 2.5l-.94 2.06-2.06.94zm10 10l.94 2.06.94-2.06 2.06-.94-2.06-.94-.94-2.06-.94 2.06-2.06.94z\"/><path d=\"M17.41 7.96l-1.37-1.37c-.4-.4-.92-.59-1.43-.59-.52 0-1.04.2-1.43.59L10.3 9.45l-7.72 7.72c-.78.78-.78 2.05 0 2.83L4 21.41c.39.39.9.59 1.41.59.51 0 1.02-.2 1.41-.59l7.78-7.78 2.81-2.81c.8-.78.8-2.07 0-2.86zM5.41 20L4 18.59l7.72-7.72 1.47 1.35L5.41 20z\"/>\n",
              "  </svg>\n",
              "      </button>\n",
              "      \n",
              "  <style>\n",
              "    .colab-df-container {\n",
              "      display:flex;\n",
              "      flex-wrap:wrap;\n",
              "      gap: 12px;\n",
              "    }\n",
              "\n",
              "    .colab-df-convert {\n",
              "      background-color: #E8F0FE;\n",
              "      border: none;\n",
              "      border-radius: 50%;\n",
              "      cursor: pointer;\n",
              "      display: none;\n",
              "      fill: #1967D2;\n",
              "      height: 32px;\n",
              "      padding: 0 0 0 0;\n",
              "      width: 32px;\n",
              "    }\n",
              "\n",
              "    .colab-df-convert:hover {\n",
              "      background-color: #E2EBFA;\n",
              "      box-shadow: 0px 1px 2px rgba(60, 64, 67, 0.3), 0px 1px 3px 1px rgba(60, 64, 67, 0.15);\n",
              "      fill: #174EA6;\n",
              "    }\n",
              "\n",
              "    [theme=dark] .colab-df-convert {\n",
              "      background-color: #3B4455;\n",
              "      fill: #D2E3FC;\n",
              "    }\n",
              "\n",
              "    [theme=dark] .colab-df-convert:hover {\n",
              "      background-color: #434B5C;\n",
              "      box-shadow: 0px 1px 3px 1px rgba(0, 0, 0, 0.15);\n",
              "      filter: drop-shadow(0px 1px 2px rgba(0, 0, 0, 0.3));\n",
              "      fill: #FFFFFF;\n",
              "    }\n",
              "  </style>\n",
              "\n",
              "      <script>\n",
              "        const buttonEl =\n",
              "          document.querySelector('#df-01888bd7-a2a6-4f56-b09e-be65472d1a7b button.colab-df-convert');\n",
              "        buttonEl.style.display =\n",
              "          google.colab.kernel.accessAllowed ? 'block' : 'none';\n",
              "\n",
              "        async function convertToInteractive(key) {\n",
              "          const element = document.querySelector('#df-01888bd7-a2a6-4f56-b09e-be65472d1a7b');\n",
              "          const dataTable =\n",
              "            await google.colab.kernel.invokeFunction('convertToInteractive',\n",
              "                                                     [key], {});\n",
              "          if (!dataTable) return;\n",
              "\n",
              "          const docLinkHtml = 'Like what you see? Visit the ' +\n",
              "            '<a target=\"_blank\" href=https://colab.research.google.com/notebooks/data_table.ipynb>data table notebook</a>'\n",
              "            + ' to learn more about interactive tables.';\n",
              "          element.innerHTML = '';\n",
              "          dataTable['output_type'] = 'display_data';\n",
              "          await google.colab.output.renderOutput(dataTable, element);\n",
              "          const docLink = document.createElement('div');\n",
              "          docLink.innerHTML = docLinkHtml;\n",
              "          element.appendChild(docLink);\n",
              "        }\n",
              "      </script>\n",
              "    </div>\n",
              "  </div>\n",
              "  "
            ]
          },
          "metadata": {},
          "execution_count": 250
        }
      ]
    },
    {
      "cell_type": "markdown",
      "source": [
        "## Exibindo a Matriz de confusão"
      ],
      "metadata": {
        "id": "nYQSmkz3JsT0"
      }
    },
    {
      "cell_type": "code",
      "source": [
        "cm = confusion_matrix(atual, predictions)\n",
        "plt.figure(figsize = (12, 10))\n",
        "cm = pd.DataFrame(cm , index = [i for i in labelencoder.classes_] , columns = [i for i in labelencoder.classes_])\n",
        "ax = sns.heatmap(cm, linecolor='white', cmap='Dark2_r', linewidth=1, annot=True, fmt='g')\n",
        "bottom, top = ax.get_ylim()\n",
        "ax.set_ylim(bottom + 0.5, top - 0.5)\n",
        "plt.title('Matriz de Confusão', size=20)\n",
        "plt.xlabel('Classes Previstas', size=14)\n",
        "plt.ylabel('Classes Reais', size=14)\n",
        "plt.show()"
      ],
      "metadata": {
        "colab": {
          "base_uri": "https://localhost:8080/",
          "height": 630
        },
        "id": "guxbx29gJngD",
        "outputId": "ee651efb-52ff-4186-cf2f-ae7d19d1e702"
      },
      "execution_count": null,
      "outputs": [
        {
          "output_type": "display_data",
          "data": {
            "text/plain": [
              "<Figure size 864x720 with 2 Axes>"
            ],
            "image/png": "[encoded data removed]"
          },
          "metadata": {
            "needs_background": "light"
          }
        }
      ]
    },
    {
      "cell_type": "code",
      "source": [
        "print(classification_report(atual, predictions))"
      ],
      "metadata": {
        "colab": {
          "base_uri": "https://localhost:8080/"
        },
        "id": "XGVBF6UIJ4Cr",
        "outputId": "9812a916-b78d-40ac-8060-7f10f70042fb"
      },
      "execution_count": null,
      "outputs": [
        {
          "output_type": "stream",
          "name": "stdout",
          "text": [
            "              precision    recall  f1-score   support\n",
            "\n",
            "    estresse       0.95      0.91      0.93       337\n",
            "      neutra       0.92      0.95      0.94       362\n",
            "\n",
            "    accuracy                           0.93       699\n",
            "   macro avg       0.94      0.93      0.93       699\n",
            "weighted avg       0.93      0.93      0.93       699\n",
            "\n"
          ]
        }
      ]
    }
  ]
}